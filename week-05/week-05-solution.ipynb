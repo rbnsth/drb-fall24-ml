{
 "cells": [
  {
   "cell_type": "markdown",
   "id": "4f7fd1cb-2734-4169-abb2-a59933b35eca",
   "metadata": {},
   "source": [
    "## Week-5 activities"
   ]
  },
  {
   "cell_type": "code",
   "execution_count": 3,
   "id": "72c04ab7-dfa7-49d1-be97-21d521096cbd",
   "metadata": {},
   "outputs": [],
   "source": [
    "import pandas as pd\n",
    "import numpy as np\n",
    "from sklearn.preprocessing import PolynomialFeatures\n",
    "from sklearn.linear_model import LinearRegression\n",
    "from sklearn.metrics import mean_squared_error\n",
    "from sklearn.metrics import r2_score\n",
    "import matplotlib.pyplot as plt"
   ]
  },
  {
   "cell_type": "code",
   "execution_count": 4,
   "id": "eef31cc8-9550-4d44-bf63-dbf8c12dbed5",
   "metadata": {},
   "outputs": [],
   "source": [
    "simple_df = pd.read_excel('dataset/w5-simple-regression-trainset.xlsx',sheet_name='Sheet1')"
   ]
  },
  {
   "cell_type": "code",
   "execution_count": 5,
   "id": "fc62c2ce-1f13-4804-9772-345a049ed247",
   "metadata": {},
   "outputs": [
    {
     "data": {
      "text/plain": [
       "(20, 2)"
      ]
     },
     "execution_count": 5,
     "metadata": {},
     "output_type": "execute_result"
    }
   ],
   "source": [
    "simple_df.shape"
   ]
  },
  {
   "cell_type": "code",
   "execution_count": 6,
   "id": "565b76f0-f9e4-4585-bdd0-236f7d6fc18a",
   "metadata": {},
   "outputs": [
    {
     "data": {
      "text/html": [
       "<div>\n",
       "<style scoped>\n",
       "    .dataframe tbody tr th:only-of-type {\n",
       "        vertical-align: middle;\n",
       "    }\n",
       "\n",
       "    .dataframe tbody tr th {\n",
       "        vertical-align: top;\n",
       "    }\n",
       "\n",
       "    .dataframe thead th {\n",
       "        text-align: right;\n",
       "    }\n",
       "</style>\n",
       "<table border=\"1\" class=\"dataframe\">\n",
       "  <thead>\n",
       "    <tr style=\"text-align: right;\">\n",
       "      <th></th>\n",
       "      <th>x</th>\n",
       "      <th>y</th>\n",
       "    </tr>\n",
       "  </thead>\n",
       "  <tbody>\n",
       "    <tr>\n",
       "      <th>0</th>\n",
       "      <td>1</td>\n",
       "      <td>76</td>\n",
       "    </tr>\n",
       "    <tr>\n",
       "      <th>1</th>\n",
       "      <td>2</td>\n",
       "      <td>78</td>\n",
       "    </tr>\n",
       "    <tr>\n",
       "      <th>2</th>\n",
       "      <td>2</td>\n",
       "      <td>85</td>\n",
       "    </tr>\n",
       "    <tr>\n",
       "      <th>3</th>\n",
       "      <td>4</td>\n",
       "      <td>88</td>\n",
       "    </tr>\n",
       "    <tr>\n",
       "      <th>4</th>\n",
       "      <td>2</td>\n",
       "      <td>72</td>\n",
       "    </tr>\n",
       "    <tr>\n",
       "      <th>5</th>\n",
       "      <td>1</td>\n",
       "      <td>69</td>\n",
       "    </tr>\n",
       "    <tr>\n",
       "      <th>6</th>\n",
       "      <td>5</td>\n",
       "      <td>94</td>\n",
       "    </tr>\n",
       "    <tr>\n",
       "      <th>7</th>\n",
       "      <td>4</td>\n",
       "      <td>94</td>\n",
       "    </tr>\n",
       "    <tr>\n",
       "      <th>8</th>\n",
       "      <td>2</td>\n",
       "      <td>88</td>\n",
       "    </tr>\n",
       "    <tr>\n",
       "      <th>9</th>\n",
       "      <td>4</td>\n",
       "      <td>92</td>\n",
       "    </tr>\n",
       "  </tbody>\n",
       "</table>\n",
       "</div>"
      ],
      "text/plain": [
       "   x   y\n",
       "0  1  76\n",
       "1  2  78\n",
       "2  2  85\n",
       "3  4  88\n",
       "4  2  72\n",
       "5  1  69\n",
       "6  5  94\n",
       "7  4  94\n",
       "8  2  88\n",
       "9  4  92"
      ]
     },
     "execution_count": 6,
     "metadata": {},
     "output_type": "execute_result"
    }
   ],
   "source": [
    "simple_df.head(n=10)"
   ]
  },
  {
   "cell_type": "markdown",
   "id": "be45b163-10cc-402b-883f-661348dabe53",
   "metadata": {},
   "source": [
    "Task 1. Draw a linear regression line through the dataset `dataset/w5-simple-regression-trainset.xlsx`. Please note: the excel file contains data only in `Sheet1`. **Using Scikit-learn library allowed.**\n"
   ]
  },
  {
   "cell_type": "code",
   "execution_count": 7,
   "id": "de136abf-cf5d-406d-a158-e05ca916606d",
   "metadata": {},
   "outputs": [],
   "source": [
    "x = simple_df.iloc[:,0]\n",
    "y = simple_df.iloc[:,-1]"
   ]
  },
  {
   "cell_type": "code",
   "execution_count": 8,
   "id": "491ed047-b83f-43c1-91b0-6c916d69900d",
   "metadata": {},
   "outputs": [
    {
     "data": {
      "text/plain": [
       "((20,), (20,))"
      ]
     },
     "execution_count": 8,
     "metadata": {},
     "output_type": "execute_result"
    }
   ],
   "source": [
    "#These are vectors; but need to be matrices with proper dim, like (20,1)\n",
    "x.shape, y.shape"
   ]
  },
  {
   "cell_type": "code",
   "execution_count": 9,
   "id": "b2349a1e-844c-4def-8f95-a55152200a69",
   "metadata": {},
   "outputs": [
    {
     "data": {
      "text/plain": [
       "((20, 1), (20, 1))"
      ]
     },
     "execution_count": 9,
     "metadata": {},
     "output_type": "execute_result"
    }
   ],
   "source": [
    "#needs reshaping so that it becomes (20,1)\n",
    "n = x.shape[0]\n",
    "x= x.values.reshape(-1,1)\n",
    "y =y.values.reshape(-1,1)\n",
    "x.shape, y.shape"
   ]
  },
  {
   "cell_type": "code",
   "execution_count": 10,
   "id": "9a0449ca-a7b7-453f-9c32-12f782198735",
   "metadata": {},
   "outputs": [
    {
     "data": {
      "text/html": [
       "<style>#sk-container-id-1 {\n",
       "  /* Definition of color scheme common for light and dark mode */\n",
       "  --sklearn-color-text: black;\n",
       "  --sklearn-color-line: gray;\n",
       "  /* Definition of color scheme for unfitted estimators */\n",
       "  --sklearn-color-unfitted-level-0: #fff5e6;\n",
       "  --sklearn-color-unfitted-level-1: #f6e4d2;\n",
       "  --sklearn-color-unfitted-level-2: #ffe0b3;\n",
       "  --sklearn-color-unfitted-level-3: chocolate;\n",
       "  /* Definition of color scheme for fitted estimators */\n",
       "  --sklearn-color-fitted-level-0: #f0f8ff;\n",
       "  --sklearn-color-fitted-level-1: #d4ebff;\n",
       "  --sklearn-color-fitted-level-2: #b3dbfd;\n",
       "  --sklearn-color-fitted-level-3: cornflowerblue;\n",
       "\n",
       "  /* Specific color for light theme */\n",
       "  --sklearn-color-text-on-default-background: var(--sg-text-color, var(--theme-code-foreground, var(--jp-content-font-color1, black)));\n",
       "  --sklearn-color-background: var(--sg-background-color, var(--theme-background, var(--jp-layout-color0, white)));\n",
       "  --sklearn-color-border-box: var(--sg-text-color, var(--theme-code-foreground, var(--jp-content-font-color1, black)));\n",
       "  --sklearn-color-icon: #696969;\n",
       "\n",
       "  @media (prefers-color-scheme: dark) {\n",
       "    /* Redefinition of color scheme for dark theme */\n",
       "    --sklearn-color-text-on-default-background: var(--sg-text-color, var(--theme-code-foreground, var(--jp-content-font-color1, white)));\n",
       "    --sklearn-color-background: var(--sg-background-color, var(--theme-background, var(--jp-layout-color0, #111)));\n",
       "    --sklearn-color-border-box: var(--sg-text-color, var(--theme-code-foreground, var(--jp-content-font-color1, white)));\n",
       "    --sklearn-color-icon: #878787;\n",
       "  }\n",
       "}\n",
       "\n",
       "#sk-container-id-1 {\n",
       "  color: var(--sklearn-color-text);\n",
       "}\n",
       "\n",
       "#sk-container-id-1 pre {\n",
       "  padding: 0;\n",
       "}\n",
       "\n",
       "#sk-container-id-1 input.sk-hidden--visually {\n",
       "  border: 0;\n",
       "  clip: rect(1px 1px 1px 1px);\n",
       "  clip: rect(1px, 1px, 1px, 1px);\n",
       "  height: 1px;\n",
       "  margin: -1px;\n",
       "  overflow: hidden;\n",
       "  padding: 0;\n",
       "  position: absolute;\n",
       "  width: 1px;\n",
       "}\n",
       "\n",
       "#sk-container-id-1 div.sk-dashed-wrapped {\n",
       "  border: 1px dashed var(--sklearn-color-line);\n",
       "  margin: 0 0.4em 0.5em 0.4em;\n",
       "  box-sizing: border-box;\n",
       "  padding-bottom: 0.4em;\n",
       "  background-color: var(--sklearn-color-background);\n",
       "}\n",
       "\n",
       "#sk-container-id-1 div.sk-container {\n",
       "  /* jupyter's `normalize.less` sets `[hidden] { display: none; }`\n",
       "     but bootstrap.min.css set `[hidden] { display: none !important; }`\n",
       "     so we also need the `!important` here to be able to override the\n",
       "     default hidden behavior on the sphinx rendered scikit-learn.org.\n",
       "     See: https://github.com/scikit-learn/scikit-learn/issues/21755 */\n",
       "  display: inline-block !important;\n",
       "  position: relative;\n",
       "}\n",
       "\n",
       "#sk-container-id-1 div.sk-text-repr-fallback {\n",
       "  display: none;\n",
       "}\n",
       "\n",
       "div.sk-parallel-item,\n",
       "div.sk-serial,\n",
       "div.sk-item {\n",
       "  /* draw centered vertical line to link estimators */\n",
       "  background-image: linear-gradient(var(--sklearn-color-text-on-default-background), var(--sklearn-color-text-on-default-background));\n",
       "  background-size: 2px 100%;\n",
       "  background-repeat: no-repeat;\n",
       "  background-position: center center;\n",
       "}\n",
       "\n",
       "/* Parallel-specific style estimator block */\n",
       "\n",
       "#sk-container-id-1 div.sk-parallel-item::after {\n",
       "  content: \"\";\n",
       "  width: 100%;\n",
       "  border-bottom: 2px solid var(--sklearn-color-text-on-default-background);\n",
       "  flex-grow: 1;\n",
       "}\n",
       "\n",
       "#sk-container-id-1 div.sk-parallel {\n",
       "  display: flex;\n",
       "  align-items: stretch;\n",
       "  justify-content: center;\n",
       "  background-color: var(--sklearn-color-background);\n",
       "  position: relative;\n",
       "}\n",
       "\n",
       "#sk-container-id-1 div.sk-parallel-item {\n",
       "  display: flex;\n",
       "  flex-direction: column;\n",
       "}\n",
       "\n",
       "#sk-container-id-1 div.sk-parallel-item:first-child::after {\n",
       "  align-self: flex-end;\n",
       "  width: 50%;\n",
       "}\n",
       "\n",
       "#sk-container-id-1 div.sk-parallel-item:last-child::after {\n",
       "  align-self: flex-start;\n",
       "  width: 50%;\n",
       "}\n",
       "\n",
       "#sk-container-id-1 div.sk-parallel-item:only-child::after {\n",
       "  width: 0;\n",
       "}\n",
       "\n",
       "/* Serial-specific style estimator block */\n",
       "\n",
       "#sk-container-id-1 div.sk-serial {\n",
       "  display: flex;\n",
       "  flex-direction: column;\n",
       "  align-items: center;\n",
       "  background-color: var(--sklearn-color-background);\n",
       "  padding-right: 1em;\n",
       "  padding-left: 1em;\n",
       "}\n",
       "\n",
       "\n",
       "/* Toggleable style: style used for estimator/Pipeline/ColumnTransformer box that is\n",
       "clickable and can be expanded/collapsed.\n",
       "- Pipeline and ColumnTransformer use this feature and define the default style\n",
       "- Estimators will overwrite some part of the style using the `sk-estimator` class\n",
       "*/\n",
       "\n",
       "/* Pipeline and ColumnTransformer style (default) */\n",
       "\n",
       "#sk-container-id-1 div.sk-toggleable {\n",
       "  /* Default theme specific background. It is overwritten whether we have a\n",
       "  specific estimator or a Pipeline/ColumnTransformer */\n",
       "  background-color: var(--sklearn-color-background);\n",
       "}\n",
       "\n",
       "/* Toggleable label */\n",
       "#sk-container-id-1 label.sk-toggleable__label {\n",
       "  cursor: pointer;\n",
       "  display: block;\n",
       "  width: 100%;\n",
       "  margin-bottom: 0;\n",
       "  padding: 0.5em;\n",
       "  box-sizing: border-box;\n",
       "  text-align: center;\n",
       "}\n",
       "\n",
       "#sk-container-id-1 label.sk-toggleable__label-arrow:before {\n",
       "  /* Arrow on the left of the label */\n",
       "  content: \"▸\";\n",
       "  float: left;\n",
       "  margin-right: 0.25em;\n",
       "  color: var(--sklearn-color-icon);\n",
       "}\n",
       "\n",
       "#sk-container-id-1 label.sk-toggleable__label-arrow:hover:before {\n",
       "  color: var(--sklearn-color-text);\n",
       "}\n",
       "\n",
       "/* Toggleable content - dropdown */\n",
       "\n",
       "#sk-container-id-1 div.sk-toggleable__content {\n",
       "  max-height: 0;\n",
       "  max-width: 0;\n",
       "  overflow: hidden;\n",
       "  text-align: left;\n",
       "  /* unfitted */\n",
       "  background-color: var(--sklearn-color-unfitted-level-0);\n",
       "}\n",
       "\n",
       "#sk-container-id-1 div.sk-toggleable__content.fitted {\n",
       "  /* fitted */\n",
       "  background-color: var(--sklearn-color-fitted-level-0);\n",
       "}\n",
       "\n",
       "#sk-container-id-1 div.sk-toggleable__content pre {\n",
       "  margin: 0.2em;\n",
       "  border-radius: 0.25em;\n",
       "  color: var(--sklearn-color-text);\n",
       "  /* unfitted */\n",
       "  background-color: var(--sklearn-color-unfitted-level-0);\n",
       "}\n",
       "\n",
       "#sk-container-id-1 div.sk-toggleable__content.fitted pre {\n",
       "  /* unfitted */\n",
       "  background-color: var(--sklearn-color-fitted-level-0);\n",
       "}\n",
       "\n",
       "#sk-container-id-1 input.sk-toggleable__control:checked~div.sk-toggleable__content {\n",
       "  /* Expand drop-down */\n",
       "  max-height: 200px;\n",
       "  max-width: 100%;\n",
       "  overflow: auto;\n",
       "}\n",
       "\n",
       "#sk-container-id-1 input.sk-toggleable__control:checked~label.sk-toggleable__label-arrow:before {\n",
       "  content: \"▾\";\n",
       "}\n",
       "\n",
       "/* Pipeline/ColumnTransformer-specific style */\n",
       "\n",
       "#sk-container-id-1 div.sk-label input.sk-toggleable__control:checked~label.sk-toggleable__label {\n",
       "  color: var(--sklearn-color-text);\n",
       "  background-color: var(--sklearn-color-unfitted-level-2);\n",
       "}\n",
       "\n",
       "#sk-container-id-1 div.sk-label.fitted input.sk-toggleable__control:checked~label.sk-toggleable__label {\n",
       "  background-color: var(--sklearn-color-fitted-level-2);\n",
       "}\n",
       "\n",
       "/* Estimator-specific style */\n",
       "\n",
       "/* Colorize estimator box */\n",
       "#sk-container-id-1 div.sk-estimator input.sk-toggleable__control:checked~label.sk-toggleable__label {\n",
       "  /* unfitted */\n",
       "  background-color: var(--sklearn-color-unfitted-level-2);\n",
       "}\n",
       "\n",
       "#sk-container-id-1 div.sk-estimator.fitted input.sk-toggleable__control:checked~label.sk-toggleable__label {\n",
       "  /* fitted */\n",
       "  background-color: var(--sklearn-color-fitted-level-2);\n",
       "}\n",
       "\n",
       "#sk-container-id-1 div.sk-label label.sk-toggleable__label,\n",
       "#sk-container-id-1 div.sk-label label {\n",
       "  /* The background is the default theme color */\n",
       "  color: var(--sklearn-color-text-on-default-background);\n",
       "}\n",
       "\n",
       "/* On hover, darken the color of the background */\n",
       "#sk-container-id-1 div.sk-label:hover label.sk-toggleable__label {\n",
       "  color: var(--sklearn-color-text);\n",
       "  background-color: var(--sklearn-color-unfitted-level-2);\n",
       "}\n",
       "\n",
       "/* Label box, darken color on hover, fitted */\n",
       "#sk-container-id-1 div.sk-label.fitted:hover label.sk-toggleable__label.fitted {\n",
       "  color: var(--sklearn-color-text);\n",
       "  background-color: var(--sklearn-color-fitted-level-2);\n",
       "}\n",
       "\n",
       "/* Estimator label */\n",
       "\n",
       "#sk-container-id-1 div.sk-label label {\n",
       "  font-family: monospace;\n",
       "  font-weight: bold;\n",
       "  display: inline-block;\n",
       "  line-height: 1.2em;\n",
       "}\n",
       "\n",
       "#sk-container-id-1 div.sk-label-container {\n",
       "  text-align: center;\n",
       "}\n",
       "\n",
       "/* Estimator-specific */\n",
       "#sk-container-id-1 div.sk-estimator {\n",
       "  font-family: monospace;\n",
       "  border: 1px dotted var(--sklearn-color-border-box);\n",
       "  border-radius: 0.25em;\n",
       "  box-sizing: border-box;\n",
       "  margin-bottom: 0.5em;\n",
       "  /* unfitted */\n",
       "  background-color: var(--sklearn-color-unfitted-level-0);\n",
       "}\n",
       "\n",
       "#sk-container-id-1 div.sk-estimator.fitted {\n",
       "  /* fitted */\n",
       "  background-color: var(--sklearn-color-fitted-level-0);\n",
       "}\n",
       "\n",
       "/* on hover */\n",
       "#sk-container-id-1 div.sk-estimator:hover {\n",
       "  /* unfitted */\n",
       "  background-color: var(--sklearn-color-unfitted-level-2);\n",
       "}\n",
       "\n",
       "#sk-container-id-1 div.sk-estimator.fitted:hover {\n",
       "  /* fitted */\n",
       "  background-color: var(--sklearn-color-fitted-level-2);\n",
       "}\n",
       "\n",
       "/* Specification for estimator info (e.g. \"i\" and \"?\") */\n",
       "\n",
       "/* Common style for \"i\" and \"?\" */\n",
       "\n",
       ".sk-estimator-doc-link,\n",
       "a:link.sk-estimator-doc-link,\n",
       "a:visited.sk-estimator-doc-link {\n",
       "  float: right;\n",
       "  font-size: smaller;\n",
       "  line-height: 1em;\n",
       "  font-family: monospace;\n",
       "  background-color: var(--sklearn-color-background);\n",
       "  border-radius: 1em;\n",
       "  height: 1em;\n",
       "  width: 1em;\n",
       "  text-decoration: none !important;\n",
       "  margin-left: 1ex;\n",
       "  /* unfitted */\n",
       "  border: var(--sklearn-color-unfitted-level-1) 1pt solid;\n",
       "  color: var(--sklearn-color-unfitted-level-1);\n",
       "}\n",
       "\n",
       ".sk-estimator-doc-link.fitted,\n",
       "a:link.sk-estimator-doc-link.fitted,\n",
       "a:visited.sk-estimator-doc-link.fitted {\n",
       "  /* fitted */\n",
       "  border: var(--sklearn-color-fitted-level-1) 1pt solid;\n",
       "  color: var(--sklearn-color-fitted-level-1);\n",
       "}\n",
       "\n",
       "/* On hover */\n",
       "div.sk-estimator:hover .sk-estimator-doc-link:hover,\n",
       ".sk-estimator-doc-link:hover,\n",
       "div.sk-label-container:hover .sk-estimator-doc-link:hover,\n",
       ".sk-estimator-doc-link:hover {\n",
       "  /* unfitted */\n",
       "  background-color: var(--sklearn-color-unfitted-level-3);\n",
       "  color: var(--sklearn-color-background);\n",
       "  text-decoration: none;\n",
       "}\n",
       "\n",
       "div.sk-estimator.fitted:hover .sk-estimator-doc-link.fitted:hover,\n",
       ".sk-estimator-doc-link.fitted:hover,\n",
       "div.sk-label-container:hover .sk-estimator-doc-link.fitted:hover,\n",
       ".sk-estimator-doc-link.fitted:hover {\n",
       "  /* fitted */\n",
       "  background-color: var(--sklearn-color-fitted-level-3);\n",
       "  color: var(--sklearn-color-background);\n",
       "  text-decoration: none;\n",
       "}\n",
       "\n",
       "/* Span, style for the box shown on hovering the info icon */\n",
       ".sk-estimator-doc-link span {\n",
       "  display: none;\n",
       "  z-index: 9999;\n",
       "  position: relative;\n",
       "  font-weight: normal;\n",
       "  right: .2ex;\n",
       "  padding: .5ex;\n",
       "  margin: .5ex;\n",
       "  width: min-content;\n",
       "  min-width: 20ex;\n",
       "  max-width: 50ex;\n",
       "  color: var(--sklearn-color-text);\n",
       "  box-shadow: 2pt 2pt 4pt #999;\n",
       "  /* unfitted */\n",
       "  background: var(--sklearn-color-unfitted-level-0);\n",
       "  border: .5pt solid var(--sklearn-color-unfitted-level-3);\n",
       "}\n",
       "\n",
       ".sk-estimator-doc-link.fitted span {\n",
       "  /* fitted */\n",
       "  background: var(--sklearn-color-fitted-level-0);\n",
       "  border: var(--sklearn-color-fitted-level-3);\n",
       "}\n",
       "\n",
       ".sk-estimator-doc-link:hover span {\n",
       "  display: block;\n",
       "}\n",
       "\n",
       "/* \"?\"-specific style due to the `<a>` HTML tag */\n",
       "\n",
       "#sk-container-id-1 a.estimator_doc_link {\n",
       "  float: right;\n",
       "  font-size: 1rem;\n",
       "  line-height: 1em;\n",
       "  font-family: monospace;\n",
       "  background-color: var(--sklearn-color-background);\n",
       "  border-radius: 1rem;\n",
       "  height: 1rem;\n",
       "  width: 1rem;\n",
       "  text-decoration: none;\n",
       "  /* unfitted */\n",
       "  color: var(--sklearn-color-unfitted-level-1);\n",
       "  border: var(--sklearn-color-unfitted-level-1) 1pt solid;\n",
       "}\n",
       "\n",
       "#sk-container-id-1 a.estimator_doc_link.fitted {\n",
       "  /* fitted */\n",
       "  border: var(--sklearn-color-fitted-level-1) 1pt solid;\n",
       "  color: var(--sklearn-color-fitted-level-1);\n",
       "}\n",
       "\n",
       "/* On hover */\n",
       "#sk-container-id-1 a.estimator_doc_link:hover {\n",
       "  /* unfitted */\n",
       "  background-color: var(--sklearn-color-unfitted-level-3);\n",
       "  color: var(--sklearn-color-background);\n",
       "  text-decoration: none;\n",
       "}\n",
       "\n",
       "#sk-container-id-1 a.estimator_doc_link.fitted:hover {\n",
       "  /* fitted */\n",
       "  background-color: var(--sklearn-color-fitted-level-3);\n",
       "}\n",
       "</style><div id=\"sk-container-id-1\" class=\"sk-top-container\"><div class=\"sk-text-repr-fallback\"><pre>LinearRegression()</pre><b>In a Jupyter environment, please rerun this cell to show the HTML representation or trust the notebook. <br />On GitHub, the HTML representation is unable to render, please try loading this page with nbviewer.org.</b></div><div class=\"sk-container\" hidden><div class=\"sk-item\"><div class=\"sk-estimator fitted sk-toggleable\"><input class=\"sk-toggleable__control sk-hidden--visually\" id=\"sk-estimator-id-1\" type=\"checkbox\" checked><label for=\"sk-estimator-id-1\" class=\"sk-toggleable__label fitted sk-toggleable__label-arrow fitted\">&nbsp;&nbsp;LinearRegression<a class=\"sk-estimator-doc-link fitted\" rel=\"noreferrer\" target=\"_blank\" href=\"https://scikit-learn.org/1.5/modules/generated/sklearn.linear_model.LinearRegression.html\">?<span>Documentation for LinearRegression</span></a><span class=\"sk-estimator-doc-link fitted\">i<span>Fitted</span></span></label><div class=\"sk-toggleable__content fitted\"><pre>LinearRegression()</pre></div> </div></div></div></div>"
      ],
      "text/plain": [
       "LinearRegression()"
      ]
     },
     "execution_count": 10,
     "metadata": {},
     "output_type": "execute_result"
    }
   ],
   "source": [
    "#building linear regression model with a little help from scikit-learn\n",
    "from sklearn.linear_model import LinearRegression\n",
    "reg_model_scikit = LinearRegression()\n",
    "reg_model_scikit.fit(x,y)"
   ]
  },
  {
   "cell_type": "code",
   "execution_count": 11,
   "id": "9828a7ef-16d7-4b0d-b45a-1d3ead0dba6d",
   "metadata": {},
   "outputs": [
    {
     "name": "stdout",
     "output_type": "stream",
     "text": [
      "The regression model is: \n",
      " y_hat = [67.16168898] + [[5.25025747]]x\n"
     ]
    }
   ],
   "source": [
    "beta_1 = reg_model_scikit.coef_\n",
    "beta_0 = reg_model_scikit.intercept_\n",
    "print(f'The regression model is: \\n y_hat = {beta_0} + {beta_1}x')"
   ]
  },
  {
   "cell_type": "code",
   "execution_count": 12,
   "id": "072cede6-9dec-45de-bf84-2c0b76231d24",
   "metadata": {},
   "outputs": [],
   "source": [
    "#have the model predict x\n",
    "x_seq = np.linspace(0,8,100).reshape(-1,1) #for regression line plotting\n",
    "y_pred = reg_model_scikit.predict(x_seq)"
   ]
  },
  {
   "cell_type": "code",
   "execution_count": 13,
   "id": "142ef783-85bf-4818-8b0b-6c699bc3e334",
   "metadata": {},
   "outputs": [
    {
     "data": {
      "text/plain": [
       "Text(0, 0.5, 'y')"
      ]
     },
     "execution_count": 13,
     "metadata": {},
     "output_type": "execute_result"
    },
    {
     "data": {
      "image/png": "[encoded data removed]",
      "text/plain": [
       "<Figure size 900x900 with 1 Axes>"
      ]
     },
     "metadata": {},
     "output_type": "display_data"
    }
   ],
   "source": [
    "import matplotlib.pyplot as plt\n",
    "# Initialize layout\n",
    "fig, ax = plt.subplots(figsize=(9, 9))\n",
    "\n",
    "# Add scatterplot\n",
    "ax.scatter(x, y, s=60, alpha=0.7, edgecolors=\"k\")\n",
    "plt.xlim([0,8])\n",
    "\n",
    "#generate x-axis points\n",
    "# Plot regression line (in-red)\n",
    "ax.plot(x_seq, y_pred, color=\"r\", lw=2.5)\n",
    "plt.xlabel('x')\n",
    "plt.ylabel('y')\n"
   ]
  },
  {
   "cell_type": "markdown",
   "id": "06ee2f7c-5859-4e75-a91b-742c3aadc5b0",
   "metadata": {},
   "source": [
    "Task 2. Draw polynomial regression lines of degree 2, 3, 4, 5, 6, 7, 8, 9, 10, 20, 50, 100 through the dataset. Evaluate each of the models (including the model in #1) on the test set `datasets/w5-simple-testset.xlsx` in terms of RMSE and R2-score. Comments? **Using scikit-learn library allowed.**\n"
   ]
  },
  {
   "cell_type": "code",
   "execution_count": 37,
   "id": "7bce23c1-016f-4781-a483-bb64ebcc7596",
   "metadata": {},
   "outputs": [],
   "source": []
  },
  {
   "cell_type": "code",
   "execution_count": 14,
   "id": "1754aa6e-9abe-4522-b497-9b14e1c619bb",
   "metadata": {},
   "outputs": [
    {
     "data": {
      "text/plain": [
       "(6, 2)"
      ]
     },
     "execution_count": 14,
     "metadata": {},
     "output_type": "execute_result"
    }
   ],
   "source": [
    "test_df = pd.read_excel('dataset/w5-simple-regression-testset.xlsx',sheet_name='Sheet1')\n",
    "test_df.shape"
   ]
  },
  {
   "cell_type": "code",
   "execution_count": 15,
   "id": "cb4688f2-24c0-45a6-8768-2419999052cb",
   "metadata": {},
   "outputs": [
    {
     "data": {
      "text/html": [
       "<div>\n",
       "<style scoped>\n",
       "    .dataframe tbody tr th:only-of-type {\n",
       "        vertical-align: middle;\n",
       "    }\n",
       "\n",
       "    .dataframe tbody tr th {\n",
       "        vertical-align: top;\n",
       "    }\n",
       "\n",
       "    .dataframe thead th {\n",
       "        text-align: right;\n",
       "    }\n",
       "</style>\n",
       "<table border=\"1\" class=\"dataframe\">\n",
       "  <thead>\n",
       "    <tr style=\"text-align: right;\">\n",
       "      <th></th>\n",
       "      <th>x</th>\n",
       "      <th>y</th>\n",
       "    </tr>\n",
       "  </thead>\n",
       "  <tbody>\n",
       "    <tr>\n",
       "      <th>0</th>\n",
       "      <td>1.5</td>\n",
       "      <td>69.00</td>\n",
       "    </tr>\n",
       "    <tr>\n",
       "      <th>1</th>\n",
       "      <td>2.5</td>\n",
       "      <td>80.33</td>\n",
       "    </tr>\n",
       "    <tr>\n",
       "      <th>2</th>\n",
       "      <td>3.5</td>\n",
       "      <td>78.50</td>\n",
       "    </tr>\n",
       "    <tr>\n",
       "      <th>3</th>\n",
       "      <td>4.5</td>\n",
       "      <td>89.80</td>\n",
       "    </tr>\n",
       "    <tr>\n",
       "      <th>4</th>\n",
       "      <td>5.5</td>\n",
       "      <td>92.00</td>\n",
       "    </tr>\n",
       "  </tbody>\n",
       "</table>\n",
       "</div>"
      ],
      "text/plain": [
       "     x      y\n",
       "0  1.5  69.00\n",
       "1  2.5  80.33\n",
       "2  3.5  78.50\n",
       "3  4.5  89.80\n",
       "4  5.5  92.00"
      ]
     },
     "execution_count": 15,
     "metadata": {},
     "output_type": "execute_result"
    }
   ],
   "source": [
    "test_df.head()"
   ]
  },
  {
   "cell_type": "code",
   "execution_count": 16,
   "id": "19ada75d-95d5-42d8-a35d-588dce52b116",
   "metadata": {},
   "outputs": [],
   "source": [
    "#test set\n",
    "x_test = test_df.iloc[:,0].values.reshape(-1,1)\n",
    "y_test = test_df.iloc[:,-1].values.reshape(-1,1)"
   ]
  },
  {
   "cell_type": "code",
   "execution_count": 17,
   "id": "19eb485a-fb3f-48c5-b251-e1a37a34b1ac",
   "metadata": {},
   "outputs": [],
   "source": [
    "#degree\n",
    "degree = 2\n",
    "poly = PolynomialFeatures(degree=degree, include_bias=False)"
   ]
  },
  {
   "cell_type": "code",
   "execution_count": 18,
   "id": "e000bb7c-f437-4e83-b05f-b0e2b5923c2c",
   "metadata": {},
   "outputs": [],
   "source": [
    "x_train_poly = poly.fit_transform(x)"
   ]
  },
  {
   "cell_type": "code",
   "execution_count": 19,
   "id": "597545eb-af7d-41ec-9c39-2b7bf4310865",
   "metadata": {},
   "outputs": [],
   "source": [
    "x_test_poly = poly.transform(x_test) #only transform x_test features"
   ]
  },
  {
   "cell_type": "code",
   "execution_count": 20,
   "id": "12ba371e-3292-43fa-bd40-b83ee963322e",
   "metadata": {},
   "outputs": [
    {
     "data": {
      "text/html": [
       "<style>#sk-container-id-2 {\n",
       "  /* Definition of color scheme common for light and dark mode */\n",
       "  --sklearn-color-text: black;\n",
       "  --sklearn-color-line: gray;\n",
       "  /* Definition of color scheme for unfitted estimators */\n",
       "  --sklearn-color-unfitted-level-0: #fff5e6;\n",
       "  --sklearn-color-unfitted-level-1: #f6e4d2;\n",
       "  --sklearn-color-unfitted-level-2: #ffe0b3;\n",
       "  --sklearn-color-unfitted-level-3: chocolate;\n",
       "  /* Definition of color scheme for fitted estimators */\n",
       "  --sklearn-color-fitted-level-0: #f0f8ff;\n",
       "  --sklearn-color-fitted-level-1: #d4ebff;\n",
       "  --sklearn-color-fitted-level-2: #b3dbfd;\n",
       "  --sklearn-color-fitted-level-3: cornflowerblue;\n",
       "\n",
       "  /* Specific color for light theme */\n",
       "  --sklearn-color-text-on-default-background: var(--sg-text-color, var(--theme-code-foreground, var(--jp-content-font-color1, black)));\n",
       "  --sklearn-color-background: var(--sg-background-color, var(--theme-background, var(--jp-layout-color0, white)));\n",
       "  --sklearn-color-border-box: var(--sg-text-color, var(--theme-code-foreground, var(--jp-content-font-color1, black)));\n",
       "  --sklearn-color-icon: #696969;\n",
       "\n",
       "  @media (prefers-color-scheme: dark) {\n",
       "    /* Redefinition of color scheme for dark theme */\n",
       "    --sklearn-color-text-on-default-background: var(--sg-text-color, var(--theme-code-foreground, var(--jp-content-font-color1, white)));\n",
       "    --sklearn-color-background: var(--sg-background-color, var(--theme-background, var(--jp-layout-color0, #111)));\n",
       "    --sklearn-color-border-box: var(--sg-text-color, var(--theme-code-foreground, var(--jp-content-font-color1, white)));\n",
       "    --sklearn-color-icon: #878787;\n",
       "  }\n",
       "}\n",
       "\n",
       "#sk-container-id-2 {\n",
       "  color: var(--sklearn-color-text);\n",
       "}\n",
       "\n",
       "#sk-container-id-2 pre {\n",
       "  padding: 0;\n",
       "}\n",
       "\n",
       "#sk-container-id-2 input.sk-hidden--visually {\n",
       "  border: 0;\n",
       "  clip: rect(1px 1px 1px 1px);\n",
       "  clip: rect(1px, 1px, 1px, 1px);\n",
       "  height: 1px;\n",
       "  margin: -1px;\n",
       "  overflow: hidden;\n",
       "  padding: 0;\n",
       "  position: absolute;\n",
       "  width: 1px;\n",
       "}\n",
       "\n",
       "#sk-container-id-2 div.sk-dashed-wrapped {\n",
       "  border: 1px dashed var(--sklearn-color-line);\n",
       "  margin: 0 0.4em 0.5em 0.4em;\n",
       "  box-sizing: border-box;\n",
       "  padding-bottom: 0.4em;\n",
       "  background-color: var(--sklearn-color-background);\n",
       "}\n",
       "\n",
       "#sk-container-id-2 div.sk-container {\n",
       "  /* jupyter's `normalize.less` sets `[hidden] { display: none; }`\n",
       "     but bootstrap.min.css set `[hidden] { display: none !important; }`\n",
       "     so we also need the `!important` here to be able to override the\n",
       "     default hidden behavior on the sphinx rendered scikit-learn.org.\n",
       "     See: https://github.com/scikit-learn/scikit-learn/issues/21755 */\n",
       "  display: inline-block !important;\n",
       "  position: relative;\n",
       "}\n",
       "\n",
       "#sk-container-id-2 div.sk-text-repr-fallback {\n",
       "  display: none;\n",
       "}\n",
       "\n",
       "div.sk-parallel-item,\n",
       "div.sk-serial,\n",
       "div.sk-item {\n",
       "  /* draw centered vertical line to link estimators */\n",
       "  background-image: linear-gradient(var(--sklearn-color-text-on-default-background), var(--sklearn-color-text-on-default-background));\n",
       "  background-size: 2px 100%;\n",
       "  background-repeat: no-repeat;\n",
       "  background-position: center center;\n",
       "}\n",
       "\n",
       "/* Parallel-specific style estimator block */\n",
       "\n",
       "#sk-container-id-2 div.sk-parallel-item::after {\n",
       "  content: \"\";\n",
       "  width: 100%;\n",
       "  border-bottom: 2px solid var(--sklearn-color-text-on-default-background);\n",
       "  flex-grow: 1;\n",
       "}\n",
       "\n",
       "#sk-container-id-2 div.sk-parallel {\n",
       "  display: flex;\n",
       "  align-items: stretch;\n",
       "  justify-content: center;\n",
       "  background-color: var(--sklearn-color-background);\n",
       "  position: relative;\n",
       "}\n",
       "\n",
       "#sk-container-id-2 div.sk-parallel-item {\n",
       "  display: flex;\n",
       "  flex-direction: column;\n",
       "}\n",
       "\n",
       "#sk-container-id-2 div.sk-parallel-item:first-child::after {\n",
       "  align-self: flex-end;\n",
       "  width: 50%;\n",
       "}\n",
       "\n",
       "#sk-container-id-2 div.sk-parallel-item:last-child::after {\n",
       "  align-self: flex-start;\n",
       "  width: 50%;\n",
       "}\n",
       "\n",
       "#sk-container-id-2 div.sk-parallel-item:only-child::after {\n",
       "  width: 0;\n",
       "}\n",
       "\n",
       "/* Serial-specific style estimator block */\n",
       "\n",
       "#sk-container-id-2 div.sk-serial {\n",
       "  display: flex;\n",
       "  flex-direction: column;\n",
       "  align-items: center;\n",
       "  background-color: var(--sklearn-color-background);\n",
       "  padding-right: 1em;\n",
       "  padding-left: 1em;\n",
       "}\n",
       "\n",
       "\n",
       "/* Toggleable style: style used for estimator/Pipeline/ColumnTransformer box that is\n",
       "clickable and can be expanded/collapsed.\n",
       "- Pipeline and ColumnTransformer use this feature and define the default style\n",
       "- Estimators will overwrite some part of the style using the `sk-estimator` class\n",
       "*/\n",
       "\n",
       "/* Pipeline and ColumnTransformer style (default) */\n",
       "\n",
       "#sk-container-id-2 div.sk-toggleable {\n",
       "  /* Default theme specific background. It is overwritten whether we have a\n",
       "  specific estimator or a Pipeline/ColumnTransformer */\n",
       "  background-color: var(--sklearn-color-background);\n",
       "}\n",
       "\n",
       "/* Toggleable label */\n",
       "#sk-container-id-2 label.sk-toggleable__label {\n",
       "  cursor: pointer;\n",
       "  display: block;\n",
       "  width: 100%;\n",
       "  margin-bottom: 0;\n",
       "  padding: 0.5em;\n",
       "  box-sizing: border-box;\n",
       "  text-align: center;\n",
       "}\n",
       "\n",
       "#sk-container-id-2 label.sk-toggleable__label-arrow:before {\n",
       "  /* Arrow on the left of the label */\n",
       "  content: \"▸\";\n",
       "  float: left;\n",
       "  margin-right: 0.25em;\n",
       "  color: var(--sklearn-color-icon);\n",
       "}\n",
       "\n",
       "#sk-container-id-2 label.sk-toggleable__label-arrow:hover:before {\n",
       "  color: var(--sklearn-color-text);\n",
       "}\n",
       "\n",
       "/* Toggleable content - dropdown */\n",
       "\n",
       "#sk-container-id-2 div.sk-toggleable__content {\n",
       "  max-height: 0;\n",
       "  max-width: 0;\n",
       "  overflow: hidden;\n",
       "  text-align: left;\n",
       "  /* unfitted */\n",
       "  background-color: var(--sklearn-color-unfitted-level-0);\n",
       "}\n",
       "\n",
       "#sk-container-id-2 div.sk-toggleable__content.fitted {\n",
       "  /* fitted */\n",
       "  background-color: var(--sklearn-color-fitted-level-0);\n",
       "}\n",
       "\n",
       "#sk-container-id-2 div.sk-toggleable__content pre {\n",
       "  margin: 0.2em;\n",
       "  border-radius: 0.25em;\n",
       "  color: var(--sklearn-color-text);\n",
       "  /* unfitted */\n",
       "  background-color: var(--sklearn-color-unfitted-level-0);\n",
       "}\n",
       "\n",
       "#sk-container-id-2 div.sk-toggleable__content.fitted pre {\n",
       "  /* unfitted */\n",
       "  background-color: var(--sklearn-color-fitted-level-0);\n",
       "}\n",
       "\n",
       "#sk-container-id-2 input.sk-toggleable__control:checked~div.sk-toggleable__content {\n",
       "  /* Expand drop-down */\n",
       "  max-height: 200px;\n",
       "  max-width: 100%;\n",
       "  overflow: auto;\n",
       "}\n",
       "\n",
       "#sk-container-id-2 input.sk-toggleable__control:checked~label.sk-toggleable__label-arrow:before {\n",
       "  content: \"▾\";\n",
       "}\n",
       "\n",
       "/* Pipeline/ColumnTransformer-specific style */\n",
       "\n",
       "#sk-container-id-2 div.sk-label input.sk-toggleable__control:checked~label.sk-toggleable__label {\n",
       "  color: var(--sklearn-color-text);\n",
       "  background-color: var(--sklearn-color-unfitted-level-2);\n",
       "}\n",
       "\n",
       "#sk-container-id-2 div.sk-label.fitted input.sk-toggleable__control:checked~label.sk-toggleable__label {\n",
       "  background-color: var(--sklearn-color-fitted-level-2);\n",
       "}\n",
       "\n",
       "/* Estimator-specific style */\n",
       "\n",
       "/* Colorize estimator box */\n",
       "#sk-container-id-2 div.sk-estimator input.sk-toggleable__control:checked~label.sk-toggleable__label {\n",
       "  /* unfitted */\n",
       "  background-color: var(--sklearn-color-unfitted-level-2);\n",
       "}\n",
       "\n",
       "#sk-container-id-2 div.sk-estimator.fitted input.sk-toggleable__control:checked~label.sk-toggleable__label {\n",
       "  /* fitted */\n",
       "  background-color: var(--sklearn-color-fitted-level-2);\n",
       "}\n",
       "\n",
       "#sk-container-id-2 div.sk-label label.sk-toggleable__label,\n",
       "#sk-container-id-2 div.sk-label label {\n",
       "  /* The background is the default theme color */\n",
       "  color: var(--sklearn-color-text-on-default-background);\n",
       "}\n",
       "\n",
       "/* On hover, darken the color of the background */\n",
       "#sk-container-id-2 div.sk-label:hover label.sk-toggleable__label {\n",
       "  color: var(--sklearn-color-text);\n",
       "  background-color: var(--sklearn-color-unfitted-level-2);\n",
       "}\n",
       "\n",
       "/* Label box, darken color on hover, fitted */\n",
       "#sk-container-id-2 div.sk-label.fitted:hover label.sk-toggleable__label.fitted {\n",
       "  color: var(--sklearn-color-text);\n",
       "  background-color: var(--sklearn-color-fitted-level-2);\n",
       "}\n",
       "\n",
       "/* Estimator label */\n",
       "\n",
       "#sk-container-id-2 div.sk-label label {\n",
       "  font-family: monospace;\n",
       "  font-weight: bold;\n",
       "  display: inline-block;\n",
       "  line-height: 1.2em;\n",
       "}\n",
       "\n",
       "#sk-container-id-2 div.sk-label-container {\n",
       "  text-align: center;\n",
       "}\n",
       "\n",
       "/* Estimator-specific */\n",
       "#sk-container-id-2 div.sk-estimator {\n",
       "  font-family: monospace;\n",
       "  border: 1px dotted var(--sklearn-color-border-box);\n",
       "  border-radius: 0.25em;\n",
       "  box-sizing: border-box;\n",
       "  margin-bottom: 0.5em;\n",
       "  /* unfitted */\n",
       "  background-color: var(--sklearn-color-unfitted-level-0);\n",
       "}\n",
       "\n",
       "#sk-container-id-2 div.sk-estimator.fitted {\n",
       "  /* fitted */\n",
       "  background-color: var(--sklearn-color-fitted-level-0);\n",
       "}\n",
       "\n",
       "/* on hover */\n",
       "#sk-container-id-2 div.sk-estimator:hover {\n",
       "  /* unfitted */\n",
       "  background-color: var(--sklearn-color-unfitted-level-2);\n",
       "}\n",
       "\n",
       "#sk-container-id-2 div.sk-estimator.fitted:hover {\n",
       "  /* fitted */\n",
       "  background-color: var(--sklearn-color-fitted-level-2);\n",
       "}\n",
       "\n",
       "/* Specification for estimator info (e.g. \"i\" and \"?\") */\n",
       "\n",
       "/* Common style for \"i\" and \"?\" */\n",
       "\n",
       ".sk-estimator-doc-link,\n",
       "a:link.sk-estimator-doc-link,\n",
       "a:visited.sk-estimator-doc-link {\n",
       "  float: right;\n",
       "  font-size: smaller;\n",
       "  line-height: 1em;\n",
       "  font-family: monospace;\n",
       "  background-color: var(--sklearn-color-background);\n",
       "  border-radius: 1em;\n",
       "  height: 1em;\n",
       "  width: 1em;\n",
       "  text-decoration: none !important;\n",
       "  margin-left: 1ex;\n",
       "  /* unfitted */\n",
       "  border: var(--sklearn-color-unfitted-level-1) 1pt solid;\n",
       "  color: var(--sklearn-color-unfitted-level-1);\n",
       "}\n",
       "\n",
       ".sk-estimator-doc-link.fitted,\n",
       "a:link.sk-estimator-doc-link.fitted,\n",
       "a:visited.sk-estimator-doc-link.fitted {\n",
       "  /* fitted */\n",
       "  border: var(--sklearn-color-fitted-level-1) 1pt solid;\n",
       "  color: var(--sklearn-color-fitted-level-1);\n",
       "}\n",
       "\n",
       "/* On hover */\n",
       "div.sk-estimator:hover .sk-estimator-doc-link:hover,\n",
       ".sk-estimator-doc-link:hover,\n",
       "div.sk-label-container:hover .sk-estimator-doc-link:hover,\n",
       ".sk-estimator-doc-link:hover {\n",
       "  /* unfitted */\n",
       "  background-color: var(--sklearn-color-unfitted-level-3);\n",
       "  color: var(--sklearn-color-background);\n",
       "  text-decoration: none;\n",
       "}\n",
       "\n",
       "div.sk-estimator.fitted:hover .sk-estimator-doc-link.fitted:hover,\n",
       ".sk-estimator-doc-link.fitted:hover,\n",
       "div.sk-label-container:hover .sk-estimator-doc-link.fitted:hover,\n",
       ".sk-estimator-doc-link.fitted:hover {\n",
       "  /* fitted */\n",
       "  background-color: var(--sklearn-color-fitted-level-3);\n",
       "  color: var(--sklearn-color-background);\n",
       "  text-decoration: none;\n",
       "}\n",
       "\n",
       "/* Span, style for the box shown on hovering the info icon */\n",
       ".sk-estimator-doc-link span {\n",
       "  display: none;\n",
       "  z-index: 9999;\n",
       "  position: relative;\n",
       "  font-weight: normal;\n",
       "  right: .2ex;\n",
       "  padding: .5ex;\n",
       "  margin: .5ex;\n",
       "  width: min-content;\n",
       "  min-width: 20ex;\n",
       "  max-width: 50ex;\n",
       "  color: var(--sklearn-color-text);\n",
       "  box-shadow: 2pt 2pt 4pt #999;\n",
       "  /* unfitted */\n",
       "  background: var(--sklearn-color-unfitted-level-0);\n",
       "  border: .5pt solid var(--sklearn-color-unfitted-level-3);\n",
       "}\n",
       "\n",
       ".sk-estimator-doc-link.fitted span {\n",
       "  /* fitted */\n",
       "  background: var(--sklearn-color-fitted-level-0);\n",
       "  border: var(--sklearn-color-fitted-level-3);\n",
       "}\n",
       "\n",
       ".sk-estimator-doc-link:hover span {\n",
       "  display: block;\n",
       "}\n",
       "\n",
       "/* \"?\"-specific style due to the `<a>` HTML tag */\n",
       "\n",
       "#sk-container-id-2 a.estimator_doc_link {\n",
       "  float: right;\n",
       "  font-size: 1rem;\n",
       "  line-height: 1em;\n",
       "  font-family: monospace;\n",
       "  background-color: var(--sklearn-color-background);\n",
       "  border-radius: 1rem;\n",
       "  height: 1rem;\n",
       "  width: 1rem;\n",
       "  text-decoration: none;\n",
       "  /* unfitted */\n",
       "  color: var(--sklearn-color-unfitted-level-1);\n",
       "  border: var(--sklearn-color-unfitted-level-1) 1pt solid;\n",
       "}\n",
       "\n",
       "#sk-container-id-2 a.estimator_doc_link.fitted {\n",
       "  /* fitted */\n",
       "  border: var(--sklearn-color-fitted-level-1) 1pt solid;\n",
       "  color: var(--sklearn-color-fitted-level-1);\n",
       "}\n",
       "\n",
       "/* On hover */\n",
       "#sk-container-id-2 a.estimator_doc_link:hover {\n",
       "  /* unfitted */\n",
       "  background-color: var(--sklearn-color-unfitted-level-3);\n",
       "  color: var(--sklearn-color-background);\n",
       "  text-decoration: none;\n",
       "}\n",
       "\n",
       "#sk-container-id-2 a.estimator_doc_link.fitted:hover {\n",
       "  /* fitted */\n",
       "  background-color: var(--sklearn-color-fitted-level-3);\n",
       "}\n",
       "</style><div id=\"sk-container-id-2\" class=\"sk-top-container\"><div class=\"sk-text-repr-fallback\"><pre>LinearRegression()</pre><b>In a Jupyter environment, please rerun this cell to show the HTML representation or trust the notebook. <br />On GitHub, the HTML representation is unable to render, please try loading this page with nbviewer.org.</b></div><div class=\"sk-container\" hidden><div class=\"sk-item\"><div class=\"sk-estimator fitted sk-toggleable\"><input class=\"sk-toggleable__control sk-hidden--visually\" id=\"sk-estimator-id-2\" type=\"checkbox\" checked><label for=\"sk-estimator-id-2\" class=\"sk-toggleable__label fitted sk-toggleable__label-arrow fitted\">&nbsp;&nbsp;LinearRegression<a class=\"sk-estimator-doc-link fitted\" rel=\"noreferrer\" target=\"_blank\" href=\"https://scikit-learn.org/1.5/modules/generated/sklearn.linear_model.LinearRegression.html\">?<span>Documentation for LinearRegression</span></a><span class=\"sk-estimator-doc-link fitted\">i<span>Fitted</span></span></label><div class=\"sk-toggleable__content fitted\"><pre>LinearRegression()</pre></div> </div></div></div></div>"
      ],
      "text/plain": [
       "LinearRegression()"
      ]
     },
     "execution_count": 20,
     "metadata": {},
     "output_type": "execute_result"
    }
   ],
   "source": [
    "poly_reg_model = LinearRegression()\n",
    "poly_reg_model.fit(x_train_poly,y) #training with polynomial features"
   ]
  },
  {
   "cell_type": "code",
   "execution_count": 21,
   "id": "b696deae-02ef-4638-b79b-ceaaada29de4",
   "metadata": {},
   "outputs": [],
   "source": [
    "x_test_seq = np.linspace(0,8,100).reshape(-1,1) #for regression line plotting\n",
    "x_test_seq_poly = poly.transform(x_test_seq)"
   ]
  },
  {
   "cell_type": "code",
   "execution_count": 22,
   "id": "ea12c274-db1d-4394-8e64-ec2e8e9d3917",
   "metadata": {},
   "outputs": [],
   "source": [
    "y_pred_seq = poly_reg_model.predict(x_test_seq_poly)"
   ]
  },
  {
   "cell_type": "code",
   "execution_count": 23,
   "id": "5fae7e06-595d-4a06-8cd3-5b3d185e3554",
   "metadata": {},
   "outputs": [
    {
     "data": {
      "image/png": "[encoded data removed]",
      "text/plain": [
       "<Figure size 1000x600 with 1 Axes>"
      ]
     },
     "metadata": {},
     "output_type": "display_data"
    }
   ],
   "source": [
    "plt.figure (figsize= (10, 6))\n",
    "plt.title (f\"Your polynomial regression of degree {degree}\", size=16)\n",
    "plt.xlim([0,8])\n",
    "plt.scatter(x, y)\n",
    "plt.scatter(x_test_seq, y_pred_seq, c=\"red\" )\n",
    "plt.show ()"
   ]
  },
  {
   "cell_type": "code",
   "execution_count": 24,
   "id": "f1e8e698-e3c2-49cd-bb8a-3a8ff51f8aa8",
   "metadata": {},
   "outputs": [],
   "source": [
    "#evaluation\n",
    "\n",
    "\n",
    "#first predict our test samples\n",
    "y_pred = poly_reg_model.predict(x_test_poly)\n"
   ]
  },
  {
   "cell_type": "code",
   "execution_count": 25,
   "id": "fd46db40-93a9-424b-8846-a9c5bf1a988e",
   "metadata": {},
   "outputs": [
    {
     "name": "stdout",
     "output_type": "stream",
     "text": [
      "RMSE = 4.2955507820861705\n",
      "R-squared error = 0.7975952834094604\n"
     ]
    }
   ],
   "source": [
    "print(f'RMSE = {np.sqrt(mean_squared_error(y_test, y_pred))}')\n",
    "print(f'R-squared error = {r2_score(y_test, y_pred)}')"
   ]
  },
  {
   "cell_type": "code",
   "execution_count": 26,
   "id": "277616f9-b75f-4b5c-bc8c-01da509029b9",
   "metadata": {},
   "outputs": [],
   "source": [
    "#Now let's try the same varying degrees of the regression polynomials\n",
    "def polynomial_regression(x_train, y_train, x_test, y_test, degree=2):\n",
    "    '''\n",
    "    This function solves this task for (x,y) with polynomial regression of certain degree.\n",
    "    Input: \n",
    "    x_train: input training feature (must be 1 dimensional)\n",
    "    y_train: target feature (must be 1 dimensional)\n",
    "    x_test: input test feature (must be 1 dimensional)\n",
    "    y_test: target feature (must be 1 dimensional)\n",
    "    degree: degree of the highest polynomial feature we want in the linear regression modeling\n",
    "\n",
    "    Returns: nothing, but prints \"nicely\" the regression plot, RMSE, R-square\"\n",
    "    '''\n",
    "    #make sure x and y are matrices of shape (n,1) instead of (n,)\n",
    "    assert x_train.shape[1]==1, \"shape of x_train must be (n,1)\"\n",
    "    assert y_train.shape[1]==1, \"shape of y_train must be (n,1)\"\n",
    "    assert x_test.shape[1]==1, \"shape of x_train must be (n,1)\"\n",
    "    assert y_test.shape[1]==1, \"shape of y_train must be (n,1)\"\n",
    "\n",
    "    #Construct the sklearn.preprocessing.PolynomialFeatures instance\n",
    "    poly = PolynomialFeatures(degree=degree, include_bias=False)\n",
    "    #transform the x_train dataset to include polynomial features\n",
    "    x_train_poly = poly.fit_transform(x_train)\n",
    "    \n",
    "    #train the regression model with polynomial features\n",
    "    poly_reg_model = LinearRegression()\n",
    "    poly_reg_model.fit(x_train_poly,y_train)\n",
    "\n",
    "    #evaluate the regression model with test set\n",
    "    #step 1: transform x_test to have polynomial features\n",
    "    x_test_poly = poly.transform(x_test)\n",
    "    #step 2: predict\n",
    "    y_pred = poly_reg_model.predict(x_test_poly)\n",
    "    #step 3: evaluate\n",
    "    print(f'=========================================')\n",
    "    print(f'Evaluation result with degree = {degree}')\n",
    "    print(f'RMSE = {np.sqrt(mean_squared_error(y_test, y_pred))}')\n",
    "    print(f'R-squared = {r2_score(y_test, y_pred)}')\n",
    "    print(f'If R-squared == 0, the model is performing equally as mean model')\n",
    "    print(f'If R-squared > 0, the model is performing better than the mean model')\n",
    "    print(f'If R-squared < 0, the model is worse than mean model')\n",
    "\n",
    "\n",
    "    #Now, plot\n",
    "    #Need some points for regression line\n",
    "    x_test_seq = np.linspace(np.min(x_train)-1,np.max(x_train)+1,100).reshape(-1,1) #for regression line plotting\n",
    "    x_test_seq_poly = poly.transform(x_test_seq)\n",
    "    y_pred_seq = poly_reg_model.predict(x_test_seq_poly) #predict\n",
    "    \n",
    "    plt.figure (figsize= (10, 6))\n",
    "    plt.title (f\"Your polynomial regression of degree {degree}\", size=16)\n",
    "    plt.xlim([0,8])\n",
    "    plt.scatter(x_train, y_train)\n",
    "    plt.scatter(x_test_seq, y_pred_seq, c=\"red\" )\n",
    "    plt.show ()\n",
    "    \n",
    "    \n",
    "    \n",
    "\n",
    "    "
   ]
  },
  {
   "cell_type": "code",
   "execution_count": 27,
   "id": "2ccfd00c-2df1-47ab-b572-869c2af49738",
   "metadata": {},
   "outputs": [
    {
     "data": {
      "text/plain": [
       "((20, 2), (6, 2))"
      ]
     },
     "execution_count": 27,
     "metadata": {},
     "output_type": "execute_result"
    }
   ],
   "source": [
    "train_df = pd.read_excel('dataset/w5-simple-regression-trainset.xlsx',sheet_name='Sheet1')\n",
    "test_df = pd.read_excel('dataset/w5-simple-regression-testset.xlsx',sheet_name='Sheet1')\n",
    "train_df.shape, test_df.shape"
   ]
  },
  {
   "cell_type": "code",
   "execution_count": 28,
   "id": "09f7b1c0-266b-46a7-be83-3f43bb8272b8",
   "metadata": {},
   "outputs": [],
   "source": [
    "x_train = train_df.iloc[:,0].values.reshape(-1,1)\n",
    "y_train = train_df.iloc[:,-1].values.reshape(-1,1)\n",
    "x_test = test_df.iloc[:,0].values.reshape(-1,1)\n",
    "y_test = test_df.iloc[:,-1].values.reshape(-1,1)"
   ]
  },
  {
   "cell_type": "code",
   "execution_count": 29,
   "id": "7abeb017-0527-4c6f-b06c-3e257226b45a",
   "metadata": {},
   "outputs": [
    {
     "name": "stdout",
     "output_type": "stream",
     "text": [
      "=========================================\n",
      "Evaluation result with degree = 2\n",
      "RMSE = 4.2955507820861705\n",
      "R-squared = 0.7975952834094604\n",
      "If R-squared == 0, the model is performing equally as mean model\n",
      "If R-squared > 0, the model is performing better than the mean model\n",
      "If R-squared < 0, the model is worse than mean model\n"
     ]
    },
    {
     "data": {
      "image/png": "[encoded data removed]",
      "text/plain": [
       "<Figure size 1000x600 with 1 Axes>"
      ]
     },
     "metadata": {},
     "output_type": "display_data"
    },
    {
     "name": "stdout",
     "output_type": "stream",
     "text": [
      "=========================================\n",
      "Evaluation result with degree = 3\n",
      "RMSE = 4.600194916438478\n",
      "R-squared = 0.7678678035763747\n",
      "If R-squared == 0, the model is performing equally as mean model\n",
      "If R-squared > 0, the model is performing better than the mean model\n",
      "If R-squared < 0, the model is worse than mean model\n"
     ]
    },
    {
     "data": {
      "image/png": "[encoded data removed]",
      "text/plain": [
       "<Figure size 1000x600 with 1 Axes>"
      ]
     },
     "metadata": {},
     "output_type": "display_data"
    },
    {
     "name": "stdout",
     "output_type": "stream",
     "text": [
      "=========================================\n",
      "Evaluation result with degree = 4\n",
      "RMSE = 4.787088451906308\n",
      "R-squared = 0.7486228387897245\n",
      "If R-squared == 0, the model is performing equally as mean model\n",
      "If R-squared > 0, the model is performing better than the mean model\n",
      "If R-squared < 0, the model is worse than mean model\n"
     ]
    },
    {
     "data": {
      "image/png": "[encoded data removed]",
      "text/plain": [
       "<Figure size 1000x600 with 1 Axes>"
      ]
     },
     "metadata": {},
     "output_type": "display_data"
    },
    {
     "name": "stdout",
     "output_type": "stream",
     "text": [
      "=========================================\n",
      "Evaluation result with degree = 5\n",
      "RMSE = 16.59543220416446\n",
      "R-squared = -2.0210648520277115\n",
      "If R-squared == 0, the model is performing equally as mean model\n",
      "If R-squared > 0, the model is performing better than the mean model\n",
      "If R-squared < 0, the model is worse than mean model\n"
     ]
    },
    {
     "data": {
      "image/png": "[encoded data removed]",
      "text/plain": [
       "<Figure size 1000x600 with 1 Axes>"
      ]
     },
     "metadata": {},
     "output_type": "display_data"
    },
    {
     "name": "stdout",
     "output_type": "stream",
     "text": [
      "=========================================\n",
      "Evaluation result with degree = 6\n",
      "RMSE = 27.901357469750184\n",
      "R-squared = -7.539522356194505\n",
      "If R-squared == 0, the model is performing equally as mean model\n",
      "If R-squared > 0, the model is performing better than the mean model\n",
      "If R-squared < 0, the model is worse than mean model\n"
     ]
    },
    {
     "data": {
      "image/png": "[encoded data removed]",
      "text/plain": [
       "<Figure size 1000x600 with 1 Axes>"
      ]
     },
     "metadata": {},
     "output_type": "display_data"
    },
    {
     "name": "stdout",
     "output_type": "stream",
     "text": [
      "=========================================\n",
      "Evaluation result with degree = 7\n",
      "RMSE = 53.9879745844083\n",
      "R-squared = -30.97252847288168\n",
      "If R-squared == 0, the model is performing equally as mean model\n",
      "If R-squared > 0, the model is performing better than the mean model\n",
      "If R-squared < 0, the model is worse than mean model\n"
     ]
    },
    {
     "data": {
      "image/png": "[encoded data removed]",
      "text/plain": [
       "<Figure size 1000x600 with 1 Axes>"
      ]
     },
     "metadata": {},
     "output_type": "display_data"
    },
    {
     "name": "stdout",
     "output_type": "stream",
     "text": [
      "=========================================\n",
      "Evaluation result with degree = 8\n",
      "RMSE = 119.08334429787038\n",
      "R-squared = -154.5553522861055\n",
      "If R-squared == 0, the model is performing equally as mean model\n",
      "If R-squared > 0, the model is performing better than the mean model\n",
      "If R-squared < 0, the model is worse than mean model\n"
     ]
    },
    {
     "data": {
      "image/png": "[encoded data removed]",
      "text/plain": [
       "<Figure size 1000x600 with 1 Axes>"
      ]
     },
     "metadata": {},
     "output_type": "display_data"
    },
    {
     "name": "stdout",
     "output_type": "stream",
     "text": [
      "=========================================\n",
      "Evaluation result with degree = 9\n",
      "RMSE = 299.5655133446533\n",
      "R-squared = -983.3885265172457\n",
      "If R-squared == 0, the model is performing equally as mean model\n",
      "If R-squared > 0, the model is performing better than the mean model\n",
      "If R-squared < 0, the model is worse than mean model\n"
     ]
    },
    {
     "data": {
      "image/png": "[encoded data removed]",
      "text/plain": [
       "<Figure size 1000x600 with 1 Axes>"
      ]
     },
     "metadata": {},
     "output_type": "display_data"
    },
    {
     "name": "stdout",
     "output_type": "stream",
     "text": [
      "=========================================\n",
      "Evaluation result with degree = 10\n",
      "RMSE = 844.5274539372875\n",
      "R-squared = -7822.668809509711\n",
      "If R-squared == 0, the model is performing equally as mean model\n",
      "If R-squared > 0, the model is performing better than the mean model\n",
      "If R-squared < 0, the model is worse than mean model\n"
     ]
    },
    {
     "data": {
      "image/png": "[encoded data removed]",
      "text/plain": [
       "<Figure size 1000x600 with 1 Axes>"
      ]
     },
     "metadata": {},
     "output_type": "display_data"
    },
    {
     "name": "stdout",
     "output_type": "stream",
     "text": [
      "=========================================\n",
      "Evaluation result with degree = 20\n",
      "RMSE = 110321639.32762976\n",
      "R-squared = -133507088972866.2\n",
      "If R-squared == 0, the model is performing equally as mean model\n",
      "If R-squared > 0, the model is performing better than the mean model\n",
      "If R-squared < 0, the model is worse than mean model\n"
     ]
    },
    {
     "data": {
      "image/png": "[encoded data removed]",
      "text/plain": [
       "<Figure size 1000x600 with 1 Axes>"
      ]
     },
     "metadata": {},
     "output_type": "display_data"
    },
    {
     "name": "stdout",
     "output_type": "stream",
     "text": [
      "=========================================\n",
      "Evaluation result with degree = 50\n",
      "RMSE = 24505337544.2985\n",
      "R-squared = -6.587252201234335e+18\n",
      "If R-squared == 0, the model is performing equally as mean model\n",
      "If R-squared > 0, the model is performing better than the mean model\n",
      "If R-squared < 0, the model is worse than mean model\n"
     ]
    },
    {
     "data": {
      "image/png": "[encoded data removed]",
      "text/plain": [
       "<Figure size 1000x600 with 1 Axes>"
      ]
     },
     "metadata": {},
     "output_type": "display_data"
    },
    {
     "name": "stdout",
     "output_type": "stream",
     "text": [
      "=========================================\n",
      "Evaluation result with degree = 100\n",
      "RMSE = 423195758445.5798\n",
      "R-squared = -1.9645610339111e+21\n",
      "If R-squared == 0, the model is performing equally as mean model\n",
      "If R-squared > 0, the model is performing better than the mean model\n",
      "If R-squared < 0, the model is worse than mean model\n"
     ]
    },
    {
     "data": {
      "image/png": "[encoded data removed]",
      "text/plain": [
       "<Figure size 1000x600 with 1 Axes>"
      ]
     },
     "metadata": {},
     "output_type": "display_data"
    }
   ],
   "source": [
    "for degree in [2, 3, 4, 5, 6, 7, 8, 9, 10, 20, 50, 100]:\n",
    "    polynomial_regression(x_train,y_train,x_test,y_test, degree=degree)\n",
    "    #break"
   ]
  },
  {
   "cell_type": "code",
   "execution_count": null,
   "id": "fde2cd60-c040-4eac-93d9-b6d5acc3571d",
   "metadata": {},
   "outputs": [],
   "source": []
  },
  {
   "cell_type": "markdown",
   "id": "e5c9198e-9679-4b50-b523-77654684f705",
   "metadata": {},
   "source": [
    "Task 3. **Using scikit-learn library NOT ALLOWED**: Assuming you have gone through regression model lecture slides `Week-04-05--Regression-ML-Fall2024.pdf`. Build a simple linear regression model with the same `dataset/w5-simple-regression-trainset.xlsx` dataset in `Sheet1` with the following methods: i) closed form solution, ii) batch gradient descent, iii) stochastic gradient descent, iv) mini-batch gradient descent. And, compare your results with the evaluation metrics you got in #2.\n",
    "   - For methods (ii)-(iv) vary value of learning rate and save all evaluation metrics.\n",
    "   - For methods (iv) vary batch size and save all evaluation metrics.\n"
   ]
  },
  {
   "cell_type": "code",
   "execution_count": 30,
   "id": "ea7e0e07-9740-429f-abbc-6d3b50c78a3b",
   "metadata": {},
   "outputs": [
    {
     "data": {
      "text/plain": [
       "((20, 2), (6, 2))"
      ]
     },
     "execution_count": 30,
     "metadata": {},
     "output_type": "execute_result"
    }
   ],
   "source": [
    "train_df = pd.read_excel('dataset/w5-simple-regression-trainset.xlsx',sheet_name='Sheet1')\n",
    "test_df = pd.read_excel('dataset/w5-simple-regression-testset.xlsx',sheet_name='Sheet1')\n",
    "train_df.shape, test_df.shape"
   ]
  },
  {
   "cell_type": "code",
   "execution_count": 31,
   "id": "308294e7-a03d-4a47-ab14-5b8989fe1255",
   "metadata": {},
   "outputs": [],
   "source": [
    "x_train = train_df.iloc[:,0].values.reshape(-1,1)\n",
    "y_train = train_df.iloc[:,-1].values.reshape(-1,1)\n",
    "x_test = test_df.iloc[:,0].values.reshape(-1,1)\n",
    "y_test = test_df.iloc[:,-1].values.reshape(-1,1)"
   ]
  },
  {
   "cell_type": "code",
   "execution_count": 32,
   "id": "600e4d66-e3b0-4a29-b2ed-6007eb7b6685",
   "metadata": {},
   "outputs": [],
   "source": [
    "#add bias term\n",
    "X = np.hstack( (np.ones([x_train.shape[0],1], x_train.dtype), x_train) )\n"
   ]
  },
  {
   "cell_type": "markdown",
   "id": "4fed626a-0dad-441f-a5e3-625543511667",
   "metadata": {},
   "source": [
    "### i) closed-form ~ no scikit-learn (!)"
   ]
  },
  {
   "cell_type": "code",
   "execution_count": 33,
   "id": "ff69829c-eecc-40d9-bf84-13d15aea4745",
   "metadata": {},
   "outputs": [],
   "source": [
    "beta = np.random.random_sample(size = (2,1)) #[beta_0, beta_1]^T\n",
    "beta = np.dot(np.dot(np.linalg.inv(np.dot(X.T,X)),X.T),y_train)"
   ]
  },
  {
   "cell_type": "code",
   "execution_count": 34,
   "id": "d2413548-3909-45fc-a94f-e59be75ac8d6",
   "metadata": {},
   "outputs": [
    {
     "data": {
      "text/plain": [
       "(2, 1)"
      ]
     },
     "execution_count": 34,
     "metadata": {},
     "output_type": "execute_result"
    }
   ],
   "source": [
    "beta.shape"
   ]
  },
  {
   "cell_type": "code",
   "execution_count": 35,
   "id": "08b927e1-e72c-42f4-8425-c2860d83b18a",
   "metadata": {},
   "outputs": [
    {
     "name": "stdout",
     "output_type": "stream",
     "text": [
      "Our regression model is: y_hat = [67.16168898] + [5.25025747]x\n"
     ]
    }
   ],
   "source": [
    "print(f'Our regression model is: y_hat = {beta[0]} + {beta[1]}x')"
   ]
  },
  {
   "cell_type": "code",
   "execution_count": 36,
   "id": "330bf9db-4d38-43a1-9524-9bebfa13fad0",
   "metadata": {},
   "outputs": [],
   "source": [
    "#Now, predict the test set with our model\n",
    "x_test_with_bias = np.hstack( (np.ones([x_test.shape[0],1], x_test.dtype), x_test) )"
   ]
  },
  {
   "cell_type": "code",
   "execution_count": 37,
   "id": "80e2d4d3-d90b-4712-88c3-6cf4408b14bb",
   "metadata": {},
   "outputs": [
    {
     "data": {
      "text/plain": [
       "(6, 2)"
      ]
     },
     "execution_count": 37,
     "metadata": {},
     "output_type": "execute_result"
    }
   ],
   "source": [
    "x_test_with_bias.shape"
   ]
  },
  {
   "cell_type": "code",
   "execution_count": 38,
   "id": "a9594c71-6937-4172-8b10-81ad083d082c",
   "metadata": {},
   "outputs": [
    {
     "data": {
      "text/plain": [
       "(6, 1)"
      ]
     },
     "execution_count": 38,
     "metadata": {},
     "output_type": "execute_result"
    }
   ],
   "source": [
    "y_pred = np.dot(x_test_with_bias,beta)\n",
    "y_pred.shape"
   ]
  },
  {
   "cell_type": "code",
   "execution_count": 39,
   "id": "ae81aec5-8d8f-44e6-9ca8-e3bff0cb2f11",
   "metadata": {},
   "outputs": [
    {
     "name": "stdout",
     "output_type": "stream",
     "text": [
      "RMSE = 4.42736937643839\n"
     ]
    }
   ],
   "source": [
    "rmse = np.sqrt(np.sum((y_test-y_pred)**2)/len(y_test))\n",
    "print(f'RMSE = {rmse}')"
   ]
  },
  {
   "cell_type": "code",
   "execution_count": 40,
   "id": "4e45d9db-6522-4faa-92c8-51edbdc59ff3",
   "metadata": {},
   "outputs": [
    {
     "name": "stdout",
     "output_type": "stream",
     "text": [
      "R2-score = 0.7849821936348281\n"
     ]
    }
   ],
   "source": [
    "r2score = 1 - (np.sum((y_test-y_pred)**2)/ np.sum((y_test-np.mean(y_test))**2))\n",
    "print(f'R2-score = {r2score}')"
   ]
  },
  {
   "cell_type": "markdown",
   "id": "3e05e347-d225-4360-99f8-5eb71a002bec",
   "metadata": {},
   "source": [
    "### ii) batch gradient descent ~ no scikit-learn (!)"
   ]
  },
  {
   "cell_type": "code",
   "execution_count": 41,
   "id": "ce12412f-af8f-4920-803c-bd7d64f89120",
   "metadata": {},
   "outputs": [],
   "source": [
    "#initialize beta\n",
    "beta = np.random.random_sample(size = (X.shape[1],1)) #[beta_0, beta_1]^T\n",
    "beta_old = beta.copy() #this will store beta scores from previous iteration"
   ]
  },
  {
   "cell_type": "code",
   "execution_count": 42,
   "id": "3ddb9e5d-5ae4-4367-85d3-f41d22126564",
   "metadata": {},
   "outputs": [],
   "source": [
    "#num of sample\n",
    "n = X.shape[0]\n",
    "#learning rate\n",
    "alpha = 0.01\n",
    "reach_convergence = False\n",
    "delta = 0 #distance between two betas\n",
    "eps = 1e-4"
   ]
  },
  {
   "cell_type": "code",
   "execution_count": 43,
   "id": "96487b7d-a1ee-4fd7-b561-9448c7406346",
   "metadata": {},
   "outputs": [
    {
     "name": "stdout",
     "output_type": "stream",
     "text": [
      "Epoch 1: beta = [[1.14652103], [3.45771264], delta = 2.774455305334536\n",
      "Epoch 1001: beta = [[57.45885375], [7.76257788], delta = 0.018514375811474665\n",
      "Epoch 2001: beta = [[65.62919187], [5.64706146], delta = 0.0029242202710262834\n",
      "Epoch 3001: beta = [[66.91964144], [5.31292997], delta = 0.00046186078756534364\n",
      "Epoch 3832: Batch Gradient Descent Algo Converged\n",
      "Solution: beta = [[67.10937033], [5.26380415], delta = 9.983134649051923e-05\n"
     ]
    }
   ],
   "source": [
    "#the gradient update loop\n",
    "i = 0\n",
    "while reach_convergence == False:\n",
    "    gradient = (1/n)* np.dot(X.T , (np.dot(X,beta) - y_train))\n",
    "    beta = beta - alpha * gradient\n",
    "\n",
    "    #convergence test\n",
    "    delta = np.sqrt(np.sum( (beta_old - beta)**2 ) )\n",
    "    if delta < eps:\n",
    "        reach_convergence = True\n",
    "    if i % 1000 == 0:\n",
    "        print(f'Epoch {i+1}: beta = [{beta[0]}, {beta[1]}, delta = {delta}')\n",
    "    beta_old = beta\n",
    "    i = i + 1\n",
    "print(f'Epoch {i+1}: Batch Gradient Descent Algo Converged')\n",
    "print(f'Solution: beta = [{beta[0]}, {beta[1]}, delta = {delta}')"
   ]
  },
  {
   "cell_type": "code",
   "execution_count": 44,
   "id": "d85dc1b1-6f8e-4a34-9f0a-8b7c70ca06c5",
   "metadata": {},
   "outputs": [
    {
     "data": {
      "text/plain": [
       "(6, 1)"
      ]
     },
     "execution_count": 44,
     "metadata": {},
     "output_type": "execute_result"
    }
   ],
   "source": [
    "#now predict with it\n",
    "y_pred_batch = np.dot(x_test_with_bias,beta)\n",
    "y_pred_batch.shape"
   ]
  },
  {
   "cell_type": "code",
   "execution_count": 45,
   "id": "aa172967-6d5a-45f9-8d86-a481a6ae6a6c",
   "metadata": {},
   "outputs": [
    {
     "name": "stdout",
     "output_type": "stream",
     "text": [
      "RMSE = 4.427678603228946\n"
     ]
    }
   ],
   "source": [
    "rmse = np.sqrt(np.sum((y_test-y_pred_batch)**2)/len(y_test))\n",
    "print(f'RMSE = {rmse}')"
   ]
  },
  {
   "cell_type": "code",
   "execution_count": 46,
   "id": "1f5cf902-dc34-4fa3-8516-bd9b3d8589ab",
   "metadata": {},
   "outputs": [
    {
     "name": "stdout",
     "output_type": "stream",
     "text": [
      "R2-score = 0.7849521570228035\n"
     ]
    }
   ],
   "source": [
    "r2score = 1 - (np.sum((y_test-y_pred_batch)**2)/ np.sum((y_test-np.mean(y_test))**2))\n",
    "print(f'R2-score = {r2score}')"
   ]
  },
  {
   "cell_type": "markdown",
   "id": "c4f5efe8-a896-4bb7-ad55-4e32a0ac8254",
   "metadata": {},
   "source": [
    "### ii) Stochastic Gradient Descent ~ no scikit-learn (!)"
   ]
  },
  {
   "cell_type": "code",
   "execution_count": 47,
   "id": "048bc9a3-cea3-4586-9280-3a163d02829e",
   "metadata": {},
   "outputs": [],
   "source": [
    "#initialize beta\n",
    "beta = np.random.random_sample(size = (X.shape[1],1)) #[beta_0, beta_1]^T\n",
    "beta_old = beta.copy() #this will store beta scores from previous iteration"
   ]
  },
  {
   "cell_type": "code",
   "execution_count": 48,
   "id": "8ce336e5-dde8-487c-9cc8-925fa5875ae7",
   "metadata": {},
   "outputs": [],
   "source": [
    "#num of sample\n",
    "n = X.shape[0]\n",
    "#learning rate\n",
    "alpha = 0.01\n",
    "reach_convergence = False\n",
    "delta = 0 #distance between two betas\n",
    "eps = 1e-6"
   ]
  },
  {
   "cell_type": "code",
   "execution_count": 49,
   "id": "f8900d05-b47e-4bc4-bbaf-4ac00687e4e8",
   "metadata": {},
   "outputs": [],
   "source": [
    "#shuffle training set, or keep a record of shuffled indices\n",
    "indices = np.arange(n)\n",
    "np.random.shuffle(indices)"
   ]
  },
  {
   "cell_type": "code",
   "execution_count": 50,
   "id": "25d0ecda-9639-47c1-8f5a-866a1e46ece4",
   "metadata": {},
   "outputs": [
    {
     "name": "stdout",
     "output_type": "stream",
     "text": [
      "Step 1: beta = [[1.45675011], [2.60698862], delta = 2.3092456725993795\n",
      "Step 1001: beta = [[58.09023182], [7.77475834], delta = 0.10262967086305218\n",
      "Step 2001: beta = [[65.77489922], [5.59403948], delta = 0.091848032523994\n",
      "Step 3001: beta = [[67.01846959], [5.28953736], delta = 0.2660671552445693\n",
      "Step 4001: beta = [[67.11331208], [5.13287363], delta = 0.04684489659842631\n",
      "Step 5001: beta = [[67.34387207], [5.43810079], delta = 0.14424534905072003\n",
      "Step 6001: beta = [[67.18713612], [5.17748141], delta = 0.07221836420673311\n",
      "Step 7001: beta = [[67.17074726], [5.16795668], delta = 0.1296133416965703\n",
      "Step 8001: beta = [[67.22519153], [5.28505311], delta = 0.04225692446160561\n",
      "Step 9001: beta = [[67.26511063], [5.19229082], delta = 0.1970012960477541\n",
      "Step 10001: beta = [[67.18104135], [5.35449001], delta = 0.13863671733032598\n",
      "Step 11001: beta = [[67.22899951], [5.20073808], delta = 0.05152156654075256\n",
      "Step 12001: beta = [[67.18737087], [5.14797413], delta = 0.08928957881268916\n",
      "Step 13001: beta = [[66.98449421], [4.84050035], delta = 0.017357557034103698\n",
      "Step 14001: beta = [[67.21948383], [5.24584903], delta = 0.15910617356070839\n",
      "Step 15001: beta = [[67.21481066], [5.13882826], delta = 0.12963387125397186\n",
      "Step 16001: beta = [[67.09921919], [5.23479875], delta = 0.14912763596098655\n",
      "Step 17001: beta = [[67.12663488], [5.05897867], delta = 0.10876565307932948\n",
      "Step 18001: beta = [[67.40922633], [5.69925774], delta = 0.18845785362830575\n",
      "Step 19001: beta = [[67.22920568], [5.58525017], delta = 0.10827968465505687\n",
      "Step 20001: beta = [[67.21490315], [5.31646529], delta = 0.16834452619472204\n",
      "Step 21001: beta = [[67.32513467], [5.55954293], delta = 0.2203970652618878\n",
      "Step 22001: beta = [[67.24250786], [5.23798783], delta = 0.05022616549211637\n",
      "Step 23001: beta = [[67.15295795], [4.97838706], delta = 0.1202706133896276\n",
      "Step 24001: beta = [[67.13516089], [4.95774185], delta = 0.08512121423241285\n",
      "Step 25001: beta = [[67.25306346], [5.14040376], delta = 0.2079099111091403\n",
      "Step 26001: beta = [[67.14078143], [4.99484904], delta = 0.026608726754297287\n",
      "Step 27001: beta = [[67.19742164], [5.16048163], delta = 0.08107343437921284\n",
      "Step 28001: beta = [[67.18830189], [5.22607372], delta = 0.008462944905250238\n",
      "Step 29001: beta = [[67.26223151], [5.57642539], delta = 0.107917764657813\n",
      "Step 30001: beta = [[67.30801432], [5.62644208], delta = 0.009250528938620503\n",
      "Step 31001: beta = [[67.34076705], [5.49177609], delta = 0.22774189394405764\n",
      "Step 32001: beta = [[67.38982133], [5.62010969], delta = 0.22054595695260376\n",
      "Step 33001: beta = [[67.29386812], [5.53478307], delta = 0.10913343326770913\n",
      "Step 34001: beta = [[67.20689102], [5.0749432], delta = 0.05365592315679005\n",
      "Step 35001: beta = [[67.20047331], [5.15004027], delta = 0.20860756706854158\n",
      "Step 36001: beta = [[67.19326913], [5.31796339], delta = 0.050669720966272494\n",
      "Step 37001: beta = [[67.2090902], [5.46964042], delta = 0.050567407539443755\n",
      "Step 38001: beta = [[67.18436751], [5.30674424], delta = 0.12244576433378425\n",
      "Step 39001: beta = [[67.21156625], [5.39013563], delta = 0.06099668934238289\n",
      "Step 40001: beta = [[67.14990886], [4.99495393], delta = 0.10579613695050923\n",
      "Step 41001: beta = [[67.21025697], [5.33342617], delta = 0.27103400551347995\n",
      "Step 42001: beta = [[67.2255211], [5.30633632], delta = 0.043266591279387555\n",
      "Step 43001: beta = [[67.31844522], [5.54628651], delta = 0.15508853793722688\n",
      "Step 44001: beta = [[67.15604655], [5.10881124], delta = 0.26290755782348185\n",
      "Step 45001: beta = [[67.13896854], [5.08236806], delta = 0.1340768800264108\n",
      "Step 46001: beta = [[67.12964094], [4.89738885], delta = 0.08540274818758568\n",
      "Step 47001: beta = [[67.18859853], [5.27195019], delta = 0.28432542477146644\n",
      "Step 48001: beta = [[67.34113278], [5.56434848], delta = 0.22431693181773837\n",
      "Step 49001: beta = [[67.09071546], [4.9542523], delta = 0.04394117040623955\n",
      "Step 50001: beta = [[67.29611219], [5.33960825], delta = 0.04854907942305767\n",
      "Step 51001: beta = [[67.08997829], [4.76436882], delta = 0.04119037133322338\n",
      "Step 52001: beta = [[67.14256634], [5.22467711], delta = 0.048591850664187815\n",
      "Step 53001: beta = [[67.28859514], [5.46110942], delta = 0.23041353037170909\n",
      "Step 54001: beta = [[67.19313392], [5.19938163], delta = 0.009605743633055764\n",
      "Step 55001: beta = [[67.23940986], [5.35268901], delta = 0.1664062634779999\n",
      "Step 56001: beta = [[67.18183805], [5.22408441], delta = 0.04573228157596004\n",
      "Step 57001: beta = [[67.22250854], [5.2510389], delta = 0.16028767487827336\n",
      "Step 58001: beta = [[67.24060121], [5.19118801], delta = 0.0002659271948778184\n",
      "Step 59001: beta = [[67.1255569], [5.00858194], delta = 0.026896856032144353\n",
      "Step 60001: beta = [[67.24137908], [5.24309471], delta = 0.040662743237831804\n",
      "Step 61001: beta = [[67.16796093], [5.00485278], delta = 0.25236800252995145\n",
      "Step 62001: beta = [[67.19339095], [5.17050996], delta = 0.12864661951825165\n",
      "Step 63001: beta = [[67.14780828], [5.26112673], delta = 0.15020874560090527\n",
      "Step 64001: beta = [[67.2838316], [5.36350146], delta = 0.048381500564507636\n",
      "Step 65001: beta = [[67.27707107], [5.31164611], delta = 0.00234520472190724\n",
      "Step 66001: beta = [[67.09220008], [5.07305242], delta = 0.2568949105105697\n",
      "Step 67001: beta = [[67.18553701], [5.30812076], delta = 0.0033080158968156865\n",
      "Step 68001: beta = [[67.26842256], [5.43247641], delta = 0.04959292270051768\n",
      "Step 69001: beta = [[67.14927299], [4.97148256], delta = 0.09444390160852026\n",
      "Step 70001: beta = [[67.04442324], [4.90544018], delta = 0.0425687434823158\n",
      "Step 71001: beta = [[67.24656006], [5.41941912], delta = 0.15391808579656976\n",
      "Step 72001: beta = [[67.14101165], [5.1084919], delta = 0.12791459548356043\n",
      "Step 73001: beta = [[67.18409464], [5.17023635], delta = 0.024412913400241758\n",
      "Step 74001: beta = [[67.2099785], [5.2035562], delta = 0.0012023213371375127\n",
      "Step 75001: beta = [[67.18263172], [5.00156503], delta = 0.15093489589223585\n",
      "Step 76001: beta = [[67.28718007], [5.52674895], delta = 0.2287987882426562\n",
      "Step 77001: beta = [[67.3283435], [5.24933826], delta = 0.23944710294410648\n",
      "Step 78001: beta = [[67.17516989], [5.18431575], delta = 0.010737800950632542\n",
      "Step 79001: beta = [[67.26036426], [5.27655348], delta = 0.042684683303050454\n",
      "Step 80001: beta = [[67.21477115], [5.11166228], delta = 0.11617121926268262\n",
      "Step 81001: beta = [[67.14763086], [5.24879914], delta = 0.04192037823209694\n",
      "Step 82001: beta = [[67.14837032], [5.09980975], delta = 0.182422183454219\n",
      "Step 83001: beta = [[67.2752966], [5.55599115], delta = 0.15564730429025664\n",
      "Step 84001: beta = [[67.09185656], [4.98117456], delta = 0.04885359589939899\n",
      "Step 85001: beta = [[67.21708206], [5.35878447], delta = 0.26565616972346845\n",
      "Step 86001: beta = [[67.23626724], [5.15811133], delta = 0.024967982120416475\n",
      "Step 87001: beta = [[67.13158062], [5.13921338], delta = 0.13355057650567903\n",
      "Step 88001: beta = [[67.13490013], [5.21787633], delta = 0.05345138344949371\n",
      "Step 89001: beta = [[67.37409161], [5.45031882], delta = 0.15829644806111623\n",
      "Step 90001: beta = [[67.13612781], [4.8952291], delta = 0.2396941499683116\n",
      "Step 91001: beta = [[67.11546544], [5.07887046], delta = 0.02996816793986392\n",
      "Step 92001: beta = [[67.23684741], [5.36934556], delta = 0.005758805292772148\n",
      "Step 93001: beta = [[67.1503332], [5.16343884], delta = 0.07114321543457545\n",
      "Step 94001: beta = [[67.14298171], [5.20356447], delta = 0.1306360494406253\n",
      "Step 95001: beta = [[67.16131896], [5.26176314], delta = 0.010351057772739265\n",
      "Step 96001: beta = [[67.10690811], [5.2111691], delta = 0.047882344811243795\n",
      "Step 97001: beta = [[67.20254748], [5.34430253], delta = 0.16990386442725652\n",
      "Step 98001: beta = [[67.2127681], [5.16097307], delta = 0.02444396045529932\n",
      "Step 99001: beta = [[67.12982763], [5.06297759], delta = 0.030712765928753792\n",
      "Step 100001: beta = [[67.17867723], [5.16636454], delta = 0.03557481325903477\n",
      "Step 101001: beta = [[67.11096156], [5.06906437], delta = 0.11858742382741648\n",
      "Step 102001: beta = [[67.28452445], [5.61015596], delta = 0.21235741048751564\n",
      "Step 103001: beta = [[67.07408605], [5.02275379], delta = 0.04147440860346716\n",
      "Step 104001: beta = [[67.2864679], [5.24098788], delta = 0.24082584739579738\n",
      "Step 105001: beta = [[67.13164182], [4.84940209], delta = 0.09499695752998304\n",
      "Step 106001: beta = [[67.2713733], [5.27865817], delta = 0.08017672044840063\n",
      "Step 107001: beta = [[67.19812326], [5.10132005], delta = 0.01764141309329281\n",
      "Step 108001: beta = [[67.01802482], [4.79886401], delta = 0.14166507467540113\n",
      "Step 109001: beta = [[67.13414065], [5.04257191], delta = 0.04584234690458786\n",
      "Step 110001: beta = [[67.08678947], [5.21470303], delta = 0.1486582694086517\n",
      "Step 111001: beta = [[67.08011758], [4.90409464], delta = 0.14407967686072415\n",
      "Step 112001: beta = [[67.23883759], [5.34472908], delta = 0.06866441609254303\n",
      "Step 113001: beta = [[67.17904611], [5.04897061], delta = 0.1670203940154135\n",
      "Step 114001: beta = [[67.06624712], [5.05092571], delta = 0.25365065715027924\n",
      "Step 115001: beta = [[67.203444], [5.1347425], delta = 0.13009375236322743\n",
      "Step 116001: beta = [[67.21951216], [5.31788129], delta = 0.01224275525634084\n",
      "Step 117001: beta = [[67.19496799], [5.18703363], delta = 0.06592847913938907\n",
      "Step 118001: beta = [[67.22051261], [5.12564593], delta = 0.2669471962453274\n",
      "Step 119001: beta = [[67.34640162], [5.4166249], delta = 0.11345923273177948\n",
      "Step 120001: beta = [[67.20046016], [5.20106963], delta = 0.05726699723465255\n",
      "Step 121001: beta = [[67.11936537], [5.21670932], delta = 0.0006853973073539754\n",
      "Step 122001: beta = [[67.19405102], [5.20835913], delta = 0.2747361672185751\n",
      "Step 123001: beta = [[67.19115417], [5.14658533], delta = 0.20148574476649422\n",
      "Step 124001: beta = [[67.28537736], [5.34305502], delta = 0.23604669370118683\n",
      "Step 125001: beta = [[67.25139334], [5.25634314], delta = 0.03585400157381141\n",
      "Step 126001: beta = [[67.21485266], [5.21523366], delta = 0.09558713569801013\n",
      "Step 127001: beta = [[67.21338524], [5.26586638], delta = 0.005999299560951548\n",
      "Step 128001: beta = [[67.16421301], [5.20181084], delta = 0.027042587808995638\n",
      "Step 129001: beta = [[67.15794456], [4.92327468], delta = 0.12226056490306511\n",
      "Step 130001: beta = [[67.15340045], [5.22770075], delta = 0.046382996953843174\n",
      "Step 131001: beta = [[67.25227209], [5.25104893], delta = 0.12346931959998084\n",
      "Step 132001: beta = [[67.08356597], [5.2139044], delta = 0.14860022700757988\n",
      "Step 133001: beta = [[67.13394781], [5.16175648], delta = 0.0728518811471457\n",
      "Step 134001: beta = [[67.09394672], [5.17275542], delta = 0.12803154578968667\n",
      "Step 135001: beta = [[67.16506396], [5.23007319], delta = 0.13240371263466244\n",
      "Step 136001: beta = [[67.23401546], [5.24240955], delta = 0.030078508986626378\n",
      "Step 137001: beta = [[67.24164998], [5.12789939], delta = 0.0956783495204444\n",
      "Step 138001: beta = [[67.15356759], [4.99282571], delta = 0.043472911189280414\n",
      "Step 139001: beta = [[67.04540143], [4.89963056], delta = 0.02719382163355311\n",
      "Step 140001: beta = [[67.24880014], [5.3936698], delta = 0.1639122623007892\n",
      "Step 141001: beta = [[67.22124919], [5.38287752], delta = 0.04813273853304921\n",
      "Step 142001: beta = [[67.16094602], [5.29357734], delta = 0.0074914505556153005\n",
      "Step 143001: beta = [[67.31848447], [5.6867919], delta = 0.14847330692032687\n",
      "Step 144001: beta = [[67.04475243], [4.78455245], delta = 0.10859893270974001\n",
      "Step 145001: beta = [[67.12001277], [5.08361741], delta = 0.013030868055029439\n",
      "Step 146001: beta = [[67.24877989], [5.25625196], delta = 0.16262858632875507\n",
      "Step 147001: beta = [[67.24255304], [5.37616489], delta = 0.23549602246840243\n",
      "Step 148001: beta = [[67.05822579], [4.98062629], delta = 0.13514863430347954\n",
      "Step 149001: beta = [[67.16793992], [5.28735055], delta = 0.13516774421846287\n",
      "Step 150001: beta = [[67.18149909], [5.23358052], delta = 0.2493915470388151\n",
      "Step 151001: beta = [[67.1766312], [5.22069724], delta = 0.048197236744749045\n",
      "Step 152001: beta = [[67.19157259], [5.14911341], delta = 0.03506623937377015\n",
      "Step 153001: beta = [[67.17592501], [5.05214059], delta = 0.1242831576651485\n",
      "Step 154001: beta = [[67.11899402], [5.18673087], delta = 0.26981911507792494\n",
      "Step 155001: beta = [[67.10762118], [5.04359307], delta = 0.2543314653079998\n",
      "Step 156001: beta = [[67.29146152], [5.50311694], delta = 0.23328187475658493\n",
      "Step 157001: beta = [[67.22554596], [5.39405195], delta = 0.15887598962712052\n",
      "Step 158001: beta = [[67.35193521], [5.52421787], delta = 0.1445614304879719\n",
      "Step 159001: beta = [[67.30670651], [5.44737499], delta = 0.2306337828170365\n",
      "Step 160001: beta = [[67.25364437], [5.3864716], delta = 0.2347497698262315\n",
      "Step 161001: beta = [[67.27547715], [5.39150152], delta = 0.016053970608527555\n",
      "Step 162001: beta = [[67.16304236], [4.92848607], delta = 0.0018095054535301924\n",
      "Step 163001: beta = [[67.10429817], [4.82963589], delta = 0.23166163903321044\n",
      "Step 164001: beta = [[67.23569894], [5.32122575], delta = 0.27219442194340876\n",
      "Step 165001: beta = [[67.10676799], [5.00596331], delta = 0.11031503668737357\n",
      "Step 166001: beta = [[67.10471651], [5.28086836], delta = 0.149871785470912\n",
      "Step 167001: beta = [[67.23829031], [5.33173629], delta = 0.051518163626901904\n",
      "Step 168001: beta = [[67.21287883], [5.36965201], delta = 0.0011254987455990599\n",
      "Step 169001: beta = [[67.16580806], [4.85974037], delta = 0.04366093487403823\n",
      "Step 170001: beta = [[67.12987641], [5.1047528], delta = 0.1476933820158071\n",
      "Step 171001: beta = [[67.12586784], [4.93507217], delta = 0.12411486920496857\n",
      "Step 172001: beta = [[67.20367039], [5.18597258], delta = 0.06570292516683787\n",
      "Step 173001: beta = [[67.12403152], [5.15423139], delta = 0.14832304905220117\n",
      "Step 174001: beta = [[67.06431683], [4.98431263], delta = 0.14500926589200924\n",
      "Step 175001: beta = [[67.31880692], [5.21203434], delta = 0.04279189395979721\n",
      "Step 176001: beta = [[67.3194933], [5.58632037], delta = 0.21535652457519913\n",
      "Step 177001: beta = [[67.24109925], [5.30217174], delta = 0.022343567609069886\n",
      "Step 178001: beta = [[67.19475562], [5.24433257], delta = 0.09080340782036046\n",
      "Step 179001: beta = [[67.17073774], [5.18296884], delta = 0.010905529060179301\n",
      "Step 180001: beta = [[67.07919532], [5.08347763], delta = 0.017743774428084936\n",
      "Step 181001: beta = [[67.31265138], [5.60867081], delta = 0.11190334166289381\n",
      "Step 182001: beta = [[67.18352588], [5.11874579], delta = 0.1313156230765049\n",
      "Step 183001: beta = [[67.17542071], [5.34783171], delta = 0.1518584314481657\n",
      "Step 184001: beta = [[67.13692007], [4.82934195], delta = 0.07224316284451891\n",
      "Step 185001: beta = [[67.30412896], [5.47253303], delta = 0.1588974613806722\n",
      "Step 186001: beta = [[67.21707642], [5.32384917], delta = 0.12087066031011554\n",
      "Step 187001: beta = [[67.17038623], [5.16602573], delta = 0.269442338895546\n",
      "Step 188001: beta = [[67.19533285], [5.27750375], delta = 0.16419636420027173\n",
      "Step 189001: beta = [[67.22700578], [5.01220624], delta = 0.02945532960317462\n",
      "Step 190001: beta = [[67.2663575], [5.3156476], delta = 0.1724278856271532\n",
      "Step 191001: beta = [[67.28241792], [5.43080368], delta = 0.24810005022442316\n",
      "Step 192001: beta = [[67.23684032], [5.421945], delta = 0.15277247392663879\n",
      "Step 193001: beta = [[67.18755151], [5.19565997], delta = 0.057477569291262\n",
      "Step 194001: beta = [[67.21512207], [5.3940358], delta = 0.2587489571592312\n",
      "Step 195001: beta = [[67.28928103], [5.42800418], delta = 0.11426803111635155\n",
      "Step 196001: beta = [[67.18624235], [5.26301209], delta = 0.15079058516676364\n",
      "Step 197001: beta = [[67.21798442], [5.40123268], delta = 0.047556453110838434\n",
      "Step 198001: beta = [[67.1379233], [5.0615212], delta = 0.011331034171062354\n",
      "Step 199001: beta = [[67.27345037], [5.43188033], delta = 0.05030472774247043\n",
      "Step 200001: beta = [[67.20809043], [5.2013861], delta = 0.13206600274512073\n",
      "Step 201001: beta = [[67.29457895], [5.35861016], delta = 0.047352841460723265\n",
      "Step 202001: beta = [[67.31600869], [5.57467088], delta = 0.22442236343545427\n",
      "Step 203001: beta = [[67.09020068], [4.93943088], delta = 0.07017248441724046\n",
      "Step 204001: beta = [[67.14599567], [5.04852337], delta = 0.02925818265186741\n",
      "Step 205001: beta = [[67.27819196], [5.50057104], delta = 0.06360889468686577\n",
      "Step 206001: beta = [[67.1643422], [5.25718165], delta = 0.12525027625369853\n",
      "Step 207001: beta = [[67.25731543], [5.50753629], delta = 0.1347480301870098\n",
      "Step 208001: beta = [[67.0791369], [5.28567098], delta = 0.14957195781595084\n",
      "Step 209001: beta = [[67.31099147], [5.61332757], delta = 0.10503290007720027\n",
      "Step 210001: beta = [[67.28989716], [5.50548616], delta = 0.12772006807364902\n",
      "Step 211001: beta = [[67.34131888], [5.64559068], delta = 0.1028002773822465\n",
      "Step 212001: beta = [[67.09631853], [4.93671515], delta = 0.24266840869130926\n",
      "Step 213001: beta = [[67.23762081], [5.25503981], delta = 0.005938515709409495\n",
      "Step 214001: beta = [[67.13924603], [5.09310362], delta = 0.12476917617536999\n",
      "Step 215001: beta = [[67.09492479], [4.7444341], delta = 0.22235123528891165\n",
      "Step 216001: beta = [[67.07638644], [4.71232422], delta = 0.21831518515404488\n",
      "Step 217001: beta = [[67.07857344], [4.99049187], delta = 0.14530417067326928\n",
      "Step 218001: beta = [[67.06501776], [4.90948267], delta = 0.042924273979529366\n",
      "Step 219001: beta = [[67.15235152], [5.15650773], delta = 0.011009068328929124\n",
      "Step 220001: beta = [[67.14696402], [5.40056863], delta = 0.15220881355263666\n",
      "Step 221001: beta = [[67.10806351], [4.9223764], delta = 0.062017327296703416\n",
      "Step 222001: beta = [[67.30174218], [5.30982176], delta = 0.23722596540921695\n",
      "Step 223001: beta = [[67.29212967], [5.42380377], delta = 0.08061613767704703\n",
      "Step 224001: beta = [[67.1394242], [5.02750045], delta = 0.15689314207125477\n",
      "Step 225001: beta = [[67.18238123], [5.36092758], delta = 0.06825023673470398\n",
      "Step 226001: beta = [[67.27665695], [5.35000628], delta = 0.16531204648884457\n",
      "Step 227001: beta = [[67.22832452], [5.31836703], delta = 0.04389892382030594\n",
      "Step 228001: beta = [[67.26502857], [5.46655175], delta = 0.24186060240521046\n",
      "Step 229001: beta = [[67.15509643], [5.25320855], delta = 0.15019965377626177\n",
      "Step 230001: beta = [[67.09809045], [4.95899017], delta = 0.2450786602331175\n",
      "Step 231001: beta = [[67.24180354], [5.10663624], delta = 0.034248935592555034\n",
      "Step 232001: beta = [[67.23724953], [5.16621163], delta = 0.010128851302543136\n",
      "Step 233001: beta = [[67.25638407], [5.38295757], delta = 0.16423803474931245\n",
      "Step 234001: beta = [[67.13840195], [5.34099012], delta = 0.042847350700275726\n",
      "Step 235001: beta = [[67.33454889], [5.54017442], delta = 0.2256098974738445\n",
      "Step 236001: beta = [[67.19789977], [5.09012325], delta = 0.26240824246817923\n",
      "Step 237001: beta = [[67.29505755], [5.32473836], delta = 0.2685477562304139\n",
      "Step 238001: beta = [[67.21064659], [5.24603546], delta = 0.24237288017960776\n",
      "Step 239001: beta = [[67.11657585], [4.97904961], delta = 0.0956706056239557\n",
      "Step 240001: beta = [[67.13905284], [5.34462036], delta = 0.04121199444578606\n",
      "Step 241001: beta = [[67.13831191], [5.0135753], delta = 0.006290747255285144\n",
      "Step 242001: beta = [[67.16074747], [5.13156344], delta = 0.08140759024345948\n",
      "Step 243001: beta = [[67.28231327], [5.51176354], delta = 0.2150655327732834\n",
      "Step 244001: beta = [[67.26274243], [5.21756613], delta = 0.05079178949988822\n",
      "Step 245001: beta = [[67.21440885], [5.38476787], delta = 0.16514080894696548\n",
      "Step 246001: beta = [[67.23459232], [5.18195352], delta = 0.02742231897032836\n",
      "Step 247001: beta = [[67.31768384], [5.46751853], delta = 0.2294271435870717\n",
      "Step 248001: beta = [[67.1827726], [5.21353206], delta = 0.1508609988794809\n",
      "Step 249001: beta = [[67.13311658], [5.1883863], delta = 0.21853863333160672\n",
      "Step 250001: beta = [[67.18476074], [5.00313306], delta = 0.13672904023624904\n",
      "Step 251001: beta = [[67.07826322], [4.99034621], delta = 0.001732290313236722\n",
      "Step 252001: beta = [[67.19588814], [5.42054284], delta = 0.2345053030569533\n",
      "Step 253001: beta = [[67.20933512], [5.13698515], delta = 0.1994309814060581\n",
      "Step 254001: beta = [[67.11943294], [5.06158418], delta = 0.03150600784583118\n",
      "Step 255001: beta = [[67.11449492], [5.22581888], delta = 0.05122958808518241\n",
      "Step 256001: beta = [[67.12468255], [5.14739258], delta = 0.11354670863214911\n",
      "Step 257001: beta = [[67.16539117], [5.4324455], delta = 0.15293473833536061\n",
      "Step 258001: beta = [[67.2451038], [5.19622821], delta = 0.05331611576096825\n",
      "Step 259001: beta = [[67.19618381], [5.29411463], delta = 0.16753928428501275\n",
      "Step 260001: beta = [[67.15535744], [5.28959106], delta = 0.04971319278374951\n",
      "Step 261001: beta = [[67.1371813], [5.0667468], delta = 0.17026007072996258\n",
      "Step 262001: beta = [[67.31368388], [5.45192748], delta = 0.23025524329735356\n",
      "Step 263001: beta = [[67.24896894], [5.41394937], delta = 0.021961323681852718\n",
      "Step 264001: beta = [[67.33371862], [5.53249409], delta = 0.225990992249808\n",
      "Step 265001: beta = [[67.08859864], [5.233006], delta = 0.14894850273557506\n",
      "Step 266001: beta = [[67.15774614], [5.1699445], delta = 0.07942223265776965\n",
      "Step 267001: beta = [[67.21180136], [5.26499984], delta = 0.04099774234679633\n",
      "Step 268001: beta = [[67.18945689], [5.10489578], delta = 0.0886171161986761\n",
      "Step 269001: beta = [[67.13083978], [5.12229299], delta = 0.1889603429361836\n",
      "Step 270001: beta = [[67.17783051], [5.1581204], delta = 0.08433287918063775\n",
      "Step 271001: beta = [[67.18372318], [5.19030361], delta = 0.05958678287690659\n",
      "Step 272001: beta = [[67.11030466], [5.14236246], delta = 0.03283558912777663\n",
      "Step 273001: beta = [[67.30758599], [5.45953667], delta = 0.1417885012371978\n",
      "Step 274001: beta = [[67.09874282], [4.99767848], delta = 0.24917968808228247\n",
      "Step 275001: beta = [[67.23854717], [5.24265707], delta = 0.03777184688790625\n",
      "Step 275286, Epoch 13764: Stochastic Gradient Descent Algo Converged\n",
      "Solution: beta = [[67.32909879], [5.33417849], delta = 6.052056785891504e-07\n"
     ]
    }
   ],
   "source": [
    "#The gradient update loop\n",
    "i = 0\n",
    "iter = 0\n",
    "num_epochs = 0\n",
    "while reach_convergence == False:\n",
    "    #grab a sample\n",
    "    x_sample = X[indices[i],:].reshape(1,-1) #a row vector, not a column vector\n",
    "    #compute gradient\n",
    "    gradient =  np.dot(x_sample.T , (np.dot(x_sample,beta) - y_train[indices[i]]))\n",
    "    beta = beta - alpha * gradient\n",
    "\n",
    "    #convergence test\n",
    "    delta = np.sqrt(np.sum( (beta_old - beta)**2 ) )\n",
    "    if delta < eps:\n",
    "        reach_convergence = True\n",
    "    if iter % 1000 == 0:\n",
    "        print(f'Step {iter+1}: beta = [{beta[0]}, {beta[1]}, delta = {delta}')\n",
    "    beta_old = beta\n",
    "    i = i + 1\n",
    "    iter = iter + 1\n",
    "    if i >= n: # next epoch begins\n",
    "        np.random.shuffle(indices)\n",
    "        num_epochs = num_epochs + 1\n",
    "        i = 0 #reset\n",
    "print(f'Step {iter+1}, Epoch {num_epochs}: Stochastic Gradient Descent Algo Converged')\n",
    "print(f'Solution: beta = [{beta[0]}, {beta[1]}, delta = {delta}')"
   ]
  },
  {
   "cell_type": "code",
   "execution_count": 51,
   "id": "f73246fb-c8ad-441f-828a-c0a3260c7b8d",
   "metadata": {},
   "outputs": [
    {
     "data": {
      "text/plain": [
       "(6, 1)"
      ]
     },
     "execution_count": 51,
     "metadata": {},
     "output_type": "execute_result"
    }
   ],
   "source": [
    "#now predict with it\n",
    "y_pred_stochastic = np.dot(x_test_with_bias,beta)\n",
    "y_pred_stochastic.shape"
   ]
  },
  {
   "cell_type": "code",
   "execution_count": 52,
   "id": "bcaaa58b-71e2-40e3-b385-905ed7dceac2",
   "metadata": {},
   "outputs": [
    {
     "name": "stdout",
     "output_type": "stream",
     "text": [
      "RMSE = 4.844396679920544\n"
     ]
    }
   ],
   "source": [
    "rmse = np.sqrt(np.sum((y_test-y_pred_stochastic)**2)/len(y_test))\n",
    "print(f'RMSE = {rmse}')"
   ]
  },
  {
   "cell_type": "code",
   "execution_count": 53,
   "id": "b0b5d395-6018-45b7-ab02-db338d38395d",
   "metadata": {},
   "outputs": [
    {
     "name": "stdout",
     "output_type": "stream",
     "text": [
      "R2-score = 0.742568131505047\n"
     ]
    }
   ],
   "source": [
    "r2score = 1 - (np.sum((y_test-y_pred_stochastic)**2)/ np.sum((y_test-np.mean(y_test))**2))\n",
    "print(f'R2-score = {r2score}')"
   ]
  },
  {
   "cell_type": "markdown",
   "id": "4a3f8560-38c4-4e7a-a5c6-3d4ba0fb0edf",
   "metadata": {},
   "source": [
    "### iii) Mini-batch Gradient Descent ~ no scikit-learn (!)"
   ]
  },
  {
   "cell_type": "code",
   "execution_count": 54,
   "id": "4a462a99-0cc0-4843-bfbf-9df81eac105c",
   "metadata": {},
   "outputs": [],
   "source": [
    "#initialize beta\n",
    "beta = np.random.random_sample(size = (X.shape[1],1)) #[beta_0, beta_1]^T\n",
    "beta_old = beta.copy() #this will store beta scores from previous iteration"
   ]
  },
  {
   "cell_type": "code",
   "execution_count": 55,
   "id": "67b4f5d4-e8d6-47ef-b64e-cf446ca26517",
   "metadata": {},
   "outputs": [],
   "source": [
    "#num of sample\n",
    "n = X.shape[0]\n",
    "#learning rate\n",
    "alpha = 0.01\n",
    "reach_convergence = False\n",
    "delta = 0 #distance between two betas\n",
    "eps = 1e-3\n",
    "b = 5 #batch_size"
   ]
  },
  {
   "cell_type": "code",
   "execution_count": 56,
   "id": "961c98c2-3647-4339-ae3e-d457351aeb56",
   "metadata": {},
   "outputs": [],
   "source": [
    "#shuffle training set, or keep a record of shuffled indices\n",
    "indices = np.arange(n)\n",
    "np.random.shuffle(indices)"
   ]
  },
  {
   "cell_type": "code",
   "execution_count": 57,
   "id": "44db1522-30c9-4b1e-9243-451cad3bb5e9",
   "metadata": {},
   "outputs": [],
   "source": [
    "#create the batch of indices\n",
    "batch_of_indices = []\n",
    "if n%b == 0:\n",
    "    num_of_batches = int(n / b)\n",
    "else:\n",
    "    num_of_batches = n // b + 1\n",
    "idx = 0\n",
    "for _ in range(num_of_batches):\n",
    "    batch_of_indices.append(indices[idx:idx+b])\n",
    "    idx = idx + b"
   ]
  },
  {
   "cell_type": "code",
   "execution_count": 58,
   "id": "9513822c-218d-454a-a38a-6d2277e8b718",
   "metadata": {},
   "outputs": [
    {
     "name": "stdout",
     "output_type": "stream",
     "text": [
      "Step 1: beta = [[1.13539225], [3.99474493], delta = 3.3997224136290924\n",
      "Step 1001: beta = [[57.61128575], [7.79988087], delta = 0.10182000514459673\n",
      "Step 2001: beta = [[65.6750413], [5.6610003], delta = 0.022562862353096343\n",
      "Step 2825, Epoch 706: Mini-batch Gradient Descent Algo (with batch_size = 5) Converged\n",
      "Solution: beta = [[66.84418788], [5.32354407], delta = 0.0009692614829965393\n"
     ]
    }
   ],
   "source": [
    "i = 0\n",
    "iter = 0\n",
    "num_epochs = 0\n",
    "while reach_convergence == False:\n",
    "    #grab a batch of samples\n",
    "    X_sample = X[batch_of_indices[i],:]\n",
    "    y_sample = y_train[batch_of_indices[i]].reshape(-1,1)\n",
    "    #print(f'X_sample.shape = {X_sample.shape}, y_sample.shape = {y_sample.shape}')\n",
    "    \n",
    "    #compute gradient\n",
    "    gradient = (1/b)* np.dot(X_sample.T , (np.dot(X_sample,beta) - y_sample))\n",
    "    beta = beta - alpha * gradient\n",
    "\n",
    "    #convergence test\n",
    "    delta = np.sqrt(np.sum( (beta_old - beta)**2 ) )\n",
    "    if delta < eps:\n",
    "        reach_convergence = True\n",
    "    if iter % 1000 == 0:\n",
    "        print(f'Step {iter+1}: beta = [{beta[0]}, {beta[1]}, delta = {delta}')\n",
    "    beta_old = beta\n",
    "    i = i + 1\n",
    "    iter = iter + 1\n",
    "    if i >= num_of_batches: # next epoch begins\n",
    "        np.random.shuffle(indices)\n",
    "        #create the batch of indices (again)\n",
    "        batch_of_indices = []\n",
    "        if n%b == 0:\n",
    "            num_of_batches = int(n / b)\n",
    "        else:\n",
    "            num_of_batches = n // b + 1\n",
    "        idx = 0\n",
    "        for _ in range(num_of_batches):\n",
    "            batch_of_indices.append(indices[idx:idx+b])\n",
    "            idx = idx + b\n",
    "        #increment epoch counter\n",
    "        num_epochs = num_epochs + 1\n",
    "        i = 0 #reset\n",
    "print(f'Step {iter+1}, Epoch {num_epochs}: Mini-batch Gradient Descent Algo (with batch_size = {b}) Converged')\n",
    "print(f'Solution: beta = [{beta[0]}, {beta[1]}, delta = {delta}')"
   ]
  },
  {
   "cell_type": "code",
   "execution_count": 59,
   "id": "ef1b8258-e75c-4b40-9e60-645e1ba28ec1",
   "metadata": {},
   "outputs": [
    {
     "data": {
      "text/plain": [
       "(6, 1)"
      ]
     },
     "execution_count": 59,
     "metadata": {},
     "output_type": "execute_result"
    }
   ],
   "source": [
    "#now predict with it\n",
    "y_pred_minibatch = np.dot(x_test_with_bias,beta)\n",
    "y_pred_minibatch.shape"
   ]
  },
  {
   "cell_type": "code",
   "execution_count": 60,
   "id": "716c1500-8420-4a2f-9c6e-226160afaa0b",
   "metadata": {},
   "outputs": [
    {
     "name": "stdout",
     "output_type": "stream",
     "text": [
      "RMSE = 4.402136949584538\n"
     ]
    }
   ],
   "source": [
    "rmse = np.sqrt(np.sum((y_test-y_pred_minibatch)**2)/len(y_test))\n",
    "print(f'RMSE = {rmse}')"
   ]
  },
  {
   "cell_type": "code",
   "execution_count": 61,
   "id": "3a6149f3-df64-427e-a5b1-8bbb81410de7",
   "metadata": {},
   "outputs": [
    {
     "name": "stdout",
     "output_type": "stream",
     "text": [
      "R2-score = 0.7874260650871515\n"
     ]
    }
   ],
   "source": [
    "r2score = 1 - (np.sum((y_test-y_pred_minibatch)**2)/ np.sum((y_test-np.mean(y_test))**2))\n",
    "print(f'R2-score = {r2score}')"
   ]
  },
  {
   "cell_type": "markdown",
   "id": "16837daa-6d82-4a43-b324-fbfc1e31edca",
   "metadata": {},
   "source": [
    "Task 4. Build a regression model for dataset in `dataset/w5-multi-regression-trainset.xlsx`. Please note it's a multiple linear regression task. **Using scikit-learn library allowed**. Evaluate the model on the provided test set, `dataset/w5-multi-regression-testset.xlsx` in terms of RMSE and R2-score.\n"
   ]
  },
  {
   "cell_type": "code",
   "execution_count": 62,
   "id": "9b6771a5-02bb-41fd-91a6-5c9187f81079",
   "metadata": {},
   "outputs": [],
   "source": [
    "#It's similar code structure as in task #2. DIY"
   ]
  },
  {
   "cell_type": "markdown",
   "id": "a35608f1-5c39-4606-9b29-258d1d1ca357",
   "metadata": {},
   "source": [
    "Task 5. Now, do the same as in task #4 without scikit-learn library. Apply the 4 solution approaches: (i) closed-form solution, (ii) batch gradient descent, (iii) stochastic gradient descent, (iv) mini-batch gradient descent. Don't forget to tune the *hyper-parameters* like learning rate.. Compare with results obtained in task #4."
   ]
  },
  {
   "cell_type": "code",
   "execution_count": 63,
   "id": "e6008ec4-4bc6-45a4-8ac7-0a79727d7509",
   "metadata": {},
   "outputs": [],
   "source": [
    "#It's similar code structure as in task #3. DIY"
   ]
  },
  {
   "cell_type": "code",
   "execution_count": null,
   "id": "391e4ab7-31a1-4384-a856-3b3817d2f9dd",
   "metadata": {},
   "outputs": [],
   "source": []
  }
 ],
 "metadata": {
  "kernelspec": {
   "display_name": "venv",
   "language": "python",
   "name": "python3"
  },
  "language_info": {
   "codemirror_mode": {
    "name": "ipython",
    "version": 3
   },
   "file_extension": ".py",
   "mimetype": "text/x-python",
   "name": "python",
   "nbconvert_exporter": "python",
   "pygments_lexer": "ipython3",
   "version": "3.12.6"
  }
 },
 "nbformat": 4,
 "nbformat_minor": 5
}
